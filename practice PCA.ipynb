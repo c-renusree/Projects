{
 "cells": [
  {
   "cell_type": "code",
   "execution_count": 71,
   "id": "c8551fbb",
   "metadata": {},
   "outputs": [],
   "source": [
    "#-- Import module\n",
    "import numpy as np\n",
    "import pandas as pd\n",
    "from sklearn.decomposition import PCA\n",
    "\n",
    "import matplotlib.pyplot as plt\n",
    "import seaborn as sns\n",
    "%matplotlib inline\n",
    "\n",
    "from sklearn.model_selection import train_test_split\n",
    "from sklearn.tree import DecisionTreeClassifier\n",
    "from sklearn.metrics import accuracy_score,confusion_matrix\n"
   ]
  },
  {
   "cell_type": "code",
   "execution_count": 72,
   "id": "01273564",
   "metadata": {},
   "outputs": [
    {
     "data": {
      "text/plain": [
       "{'data': array([[ 0.,  0.,  5., ...,  0.,  0.,  0.],\n",
       "        [ 0.,  0.,  0., ..., 10.,  0.,  0.],\n",
       "        [ 0.,  0.,  0., ..., 16.,  9.,  0.],\n",
       "        ...,\n",
       "        [ 0.,  0.,  1., ...,  6.,  0.,  0.],\n",
       "        [ 0.,  0.,  2., ..., 12.,  0.,  0.],\n",
       "        [ 0.,  0., 10., ..., 12.,  1.,  0.]]),\n",
       " 'target': array([0, 1, 2, ..., 8, 9, 8]),\n",
       " 'frame': None,\n",
       " 'feature_names': ['pixel_0_0',\n",
       "  'pixel_0_1',\n",
       "  'pixel_0_2',\n",
       "  'pixel_0_3',\n",
       "  'pixel_0_4',\n",
       "  'pixel_0_5',\n",
       "  'pixel_0_6',\n",
       "  'pixel_0_7',\n",
       "  'pixel_1_0',\n",
       "  'pixel_1_1',\n",
       "  'pixel_1_2',\n",
       "  'pixel_1_3',\n",
       "  'pixel_1_4',\n",
       "  'pixel_1_5',\n",
       "  'pixel_1_6',\n",
       "  'pixel_1_7',\n",
       "  'pixel_2_0',\n",
       "  'pixel_2_1',\n",
       "  'pixel_2_2',\n",
       "  'pixel_2_3',\n",
       "  'pixel_2_4',\n",
       "  'pixel_2_5',\n",
       "  'pixel_2_6',\n",
       "  'pixel_2_7',\n",
       "  'pixel_3_0',\n",
       "  'pixel_3_1',\n",
       "  'pixel_3_2',\n",
       "  'pixel_3_3',\n",
       "  'pixel_3_4',\n",
       "  'pixel_3_5',\n",
       "  'pixel_3_6',\n",
       "  'pixel_3_7',\n",
       "  'pixel_4_0',\n",
       "  'pixel_4_1',\n",
       "  'pixel_4_2',\n",
       "  'pixel_4_3',\n",
       "  'pixel_4_4',\n",
       "  'pixel_4_5',\n",
       "  'pixel_4_6',\n",
       "  'pixel_4_7',\n",
       "  'pixel_5_0',\n",
       "  'pixel_5_1',\n",
       "  'pixel_5_2',\n",
       "  'pixel_5_3',\n",
       "  'pixel_5_4',\n",
       "  'pixel_5_5',\n",
       "  'pixel_5_6',\n",
       "  'pixel_5_7',\n",
       "  'pixel_6_0',\n",
       "  'pixel_6_1',\n",
       "  'pixel_6_2',\n",
       "  'pixel_6_3',\n",
       "  'pixel_6_4',\n",
       "  'pixel_6_5',\n",
       "  'pixel_6_6',\n",
       "  'pixel_6_7',\n",
       "  'pixel_7_0',\n",
       "  'pixel_7_1',\n",
       "  'pixel_7_2',\n",
       "  'pixel_7_3',\n",
       "  'pixel_7_4',\n",
       "  'pixel_7_5',\n",
       "  'pixel_7_6',\n",
       "  'pixel_7_7'],\n",
       " 'target_names': array([0, 1, 2, 3, 4, 5, 6, 7, 8, 9]),\n",
       " 'images': array([[[ 0.,  0.,  5., ...,  1.,  0.,  0.],\n",
       "         [ 0.,  0., 13., ..., 15.,  5.,  0.],\n",
       "         [ 0.,  3., 15., ..., 11.,  8.,  0.],\n",
       "         ...,\n",
       "         [ 0.,  4., 11., ..., 12.,  7.,  0.],\n",
       "         [ 0.,  2., 14., ..., 12.,  0.,  0.],\n",
       "         [ 0.,  0.,  6., ...,  0.,  0.,  0.]],\n",
       " \n",
       "        [[ 0.,  0.,  0., ...,  5.,  0.,  0.],\n",
       "         [ 0.,  0.,  0., ...,  9.,  0.,  0.],\n",
       "         [ 0.,  0.,  3., ...,  6.,  0.,  0.],\n",
       "         ...,\n",
       "         [ 0.,  0.,  1., ...,  6.,  0.,  0.],\n",
       "         [ 0.,  0.,  1., ...,  6.,  0.,  0.],\n",
       "         [ 0.,  0.,  0., ..., 10.,  0.,  0.]],\n",
       " \n",
       "        [[ 0.,  0.,  0., ..., 12.,  0.,  0.],\n",
       "         [ 0.,  0.,  3., ..., 14.,  0.,  0.],\n",
       "         [ 0.,  0.,  8., ..., 16.,  0.,  0.],\n",
       "         ...,\n",
       "         [ 0.,  9., 16., ...,  0.,  0.,  0.],\n",
       "         [ 0.,  3., 13., ..., 11.,  5.,  0.],\n",
       "         [ 0.,  0.,  0., ..., 16.,  9.,  0.]],\n",
       " \n",
       "        ...,\n",
       " \n",
       "        [[ 0.,  0.,  1., ...,  1.,  0.,  0.],\n",
       "         [ 0.,  0., 13., ...,  2.,  1.,  0.],\n",
       "         [ 0.,  0., 16., ..., 16.,  5.,  0.],\n",
       "         ...,\n",
       "         [ 0.,  0., 16., ..., 15.,  0.,  0.],\n",
       "         [ 0.,  0., 15., ..., 16.,  0.,  0.],\n",
       "         [ 0.,  0.,  2., ...,  6.,  0.,  0.]],\n",
       " \n",
       "        [[ 0.,  0.,  2., ...,  0.,  0.,  0.],\n",
       "         [ 0.,  0., 14., ..., 15.,  1.,  0.],\n",
       "         [ 0.,  4., 16., ..., 16.,  7.,  0.],\n",
       "         ...,\n",
       "         [ 0.,  0.,  0., ..., 16.,  2.,  0.],\n",
       "         [ 0.,  0.,  4., ..., 16.,  2.,  0.],\n",
       "         [ 0.,  0.,  5., ..., 12.,  0.,  0.]],\n",
       " \n",
       "        [[ 0.,  0., 10., ...,  1.,  0.,  0.],\n",
       "         [ 0.,  2., 16., ...,  1.,  0.,  0.],\n",
       "         [ 0.,  0., 15., ..., 15.,  0.,  0.],\n",
       "         ...,\n",
       "         [ 0.,  4., 16., ..., 16.,  6.,  0.],\n",
       "         [ 0.,  8., 16., ..., 16.,  8.,  0.],\n",
       "         [ 0.,  1.,  8., ..., 12.,  1.,  0.]]]),\n",
       " 'DESCR': \".. _digits_dataset:\\n\\nOptical recognition of handwritten digits dataset\\n--------------------------------------------------\\n\\n**Data Set Characteristics:**\\n\\n    :Number of Instances: 1797\\n    :Number of Attributes: 64\\n    :Attribute Information: 8x8 image of integer pixels in the range 0..16.\\n    :Missing Attribute Values: None\\n    :Creator: E. Alpaydin (alpaydin '@' boun.edu.tr)\\n    :Date: July; 1998\\n\\nThis is a copy of the test set of the UCI ML hand-written digits datasets\\nhttps://archive.ics.uci.edu/ml/datasets/Optical+Recognition+of+Handwritten+Digits\\n\\nThe data set contains images of hand-written digits: 10 classes where\\neach class refers to a digit.\\n\\nPreprocessing programs made available by NIST were used to extract\\nnormalized bitmaps of handwritten digits from a preprinted form. From a\\ntotal of 43 people, 30 contributed to the training set and different 13\\nto the test set. 32x32 bitmaps are divided into nonoverlapping blocks of\\n4x4 and the number of on pixels are counted in each block. This generates\\nan input matrix of 8x8 where each element is an integer in the range\\n0..16. This reduces dimensionality and gives invariance to small\\ndistortions.\\n\\nFor info on NIST preprocessing routines, see M. D. Garris, J. L. Blue, G.\\nT. Candela, D. L. Dimmick, J. Geist, P. J. Grother, S. A. Janet, and C.\\nL. Wilson, NIST Form-Based Handprint Recognition System, NISTIR 5469,\\n1994.\\n\\n.. topic:: References\\n\\n  - C. Kaynak (1995) Methods of Combining Multiple Classifiers and Their\\n    Applications to Handwritten Digit Recognition, MSc Thesis, Institute of\\n    Graduate Studies in Science and Engineering, Bogazici University.\\n  - E. Alpaydin, C. Kaynak (1998) Cascading Classifiers, Kybernetika.\\n  - Ken Tang and Ponnuthurai N. Suganthan and Xi Yao and A. Kai Qin.\\n    Linear dimensionalityreduction using relevance weighted LDA. School of\\n    Electrical and Electronic Engineering Nanyang Technological University.\\n    2005.\\n  - Claudio Gentile. A New Approximate Maximal Margin Classification\\n    Algorithm. NIPS. 2000.\\n\"}"
      ]
     },
     "execution_count": 72,
     "metadata": {},
     "output_type": "execute_result"
    }
   ],
   "source": [
    "# -- Working with dataset\n",
    "\n",
    "from sklearn import datasets\n",
    "#dir(datasets) -- Datasets is a folder inside we will have multiple dataset to work\n",
    "from sklearn.datasets import load_digits\n",
    "digit=load_digits()\n",
    "digit"
   ]
  },
  {
   "cell_type": "code",
   "execution_count": 73,
   "id": "c4e14200",
   "metadata": {},
   "outputs": [
    {
     "data": {
      "text/plain": [
       "(1797, 8, 8)"
      ]
     },
     "execution_count": 73,
     "metadata": {},
     "output_type": "execute_result"
    }
   ],
   "source": [
    "digit.images.shape\n",
    "#digit.target.shape"
   ]
  },
  {
   "cell_type": "code",
   "execution_count": 74,
   "id": "d676e3f3",
   "metadata": {},
   "outputs": [
    {
     "data": {
      "text/plain": [
       "(1797, 64)"
      ]
     },
     "execution_count": 74,
     "metadata": {},
     "output_type": "execute_result"
    }
   ],
   "source": [
    "digit.data.shape #digit-dataset , data- first key , shape gives R & C count "
   ]
  },
  {
   "cell_type": "code",
   "execution_count": 75,
   "id": "dd390131",
   "metadata": {},
   "outputs": [],
   "source": [
    "data=pd.DataFrame(digit.data)"
   ]
  },
  {
   "cell_type": "code",
   "execution_count": 76,
   "id": "7dfeb7d5",
   "metadata": {},
   "outputs": [
    {
     "data": {
      "text/html": [
       "<div>\n",
       "<style scoped>\n",
       "    .dataframe tbody tr th:only-of-type {\n",
       "        vertical-align: middle;\n",
       "    }\n",
       "\n",
       "    .dataframe tbody tr th {\n",
       "        vertical-align: top;\n",
       "    }\n",
       "\n",
       "    .dataframe thead th {\n",
       "        text-align: right;\n",
       "    }\n",
       "</style>\n",
       "<table border=\"1\" class=\"dataframe\">\n",
       "  <thead>\n",
       "    <tr style=\"text-align: right;\">\n",
       "      <th></th>\n",
       "      <th>0</th>\n",
       "      <th>1</th>\n",
       "      <th>2</th>\n",
       "      <th>3</th>\n",
       "      <th>4</th>\n",
       "      <th>5</th>\n",
       "      <th>6</th>\n",
       "      <th>7</th>\n",
       "      <th>8</th>\n",
       "      <th>9</th>\n",
       "      <th>...</th>\n",
       "      <th>54</th>\n",
       "      <th>55</th>\n",
       "      <th>56</th>\n",
       "      <th>57</th>\n",
       "      <th>58</th>\n",
       "      <th>59</th>\n",
       "      <th>60</th>\n",
       "      <th>61</th>\n",
       "      <th>62</th>\n",
       "      <th>63</th>\n",
       "    </tr>\n",
       "  </thead>\n",
       "  <tbody>\n",
       "    <tr>\n",
       "      <th>0</th>\n",
       "      <td>0.0</td>\n",
       "      <td>0.0</td>\n",
       "      <td>5.0</td>\n",
       "      <td>13.0</td>\n",
       "      <td>9.0</td>\n",
       "      <td>1.0</td>\n",
       "      <td>0.0</td>\n",
       "      <td>0.0</td>\n",
       "      <td>0.0</td>\n",
       "      <td>0.0</td>\n",
       "      <td>...</td>\n",
       "      <td>0.0</td>\n",
       "      <td>0.0</td>\n",
       "      <td>0.0</td>\n",
       "      <td>0.0</td>\n",
       "      <td>6.0</td>\n",
       "      <td>13.0</td>\n",
       "      <td>10.0</td>\n",
       "      <td>0.0</td>\n",
       "      <td>0.0</td>\n",
       "      <td>0.0</td>\n",
       "    </tr>\n",
       "    <tr>\n",
       "      <th>1</th>\n",
       "      <td>0.0</td>\n",
       "      <td>0.0</td>\n",
       "      <td>0.0</td>\n",
       "      <td>12.0</td>\n",
       "      <td>13.0</td>\n",
       "      <td>5.0</td>\n",
       "      <td>0.0</td>\n",
       "      <td>0.0</td>\n",
       "      <td>0.0</td>\n",
       "      <td>0.0</td>\n",
       "      <td>...</td>\n",
       "      <td>0.0</td>\n",
       "      <td>0.0</td>\n",
       "      <td>0.0</td>\n",
       "      <td>0.0</td>\n",
       "      <td>0.0</td>\n",
       "      <td>11.0</td>\n",
       "      <td>16.0</td>\n",
       "      <td>10.0</td>\n",
       "      <td>0.0</td>\n",
       "      <td>0.0</td>\n",
       "    </tr>\n",
       "    <tr>\n",
       "      <th>2</th>\n",
       "      <td>0.0</td>\n",
       "      <td>0.0</td>\n",
       "      <td>0.0</td>\n",
       "      <td>4.0</td>\n",
       "      <td>15.0</td>\n",
       "      <td>12.0</td>\n",
       "      <td>0.0</td>\n",
       "      <td>0.0</td>\n",
       "      <td>0.0</td>\n",
       "      <td>0.0</td>\n",
       "      <td>...</td>\n",
       "      <td>5.0</td>\n",
       "      <td>0.0</td>\n",
       "      <td>0.0</td>\n",
       "      <td>0.0</td>\n",
       "      <td>0.0</td>\n",
       "      <td>3.0</td>\n",
       "      <td>11.0</td>\n",
       "      <td>16.0</td>\n",
       "      <td>9.0</td>\n",
       "      <td>0.0</td>\n",
       "    </tr>\n",
       "    <tr>\n",
       "      <th>3</th>\n",
       "      <td>0.0</td>\n",
       "      <td>0.0</td>\n",
       "      <td>7.0</td>\n",
       "      <td>15.0</td>\n",
       "      <td>13.0</td>\n",
       "      <td>1.0</td>\n",
       "      <td>0.0</td>\n",
       "      <td>0.0</td>\n",
       "      <td>0.0</td>\n",
       "      <td>8.0</td>\n",
       "      <td>...</td>\n",
       "      <td>9.0</td>\n",
       "      <td>0.0</td>\n",
       "      <td>0.0</td>\n",
       "      <td>0.0</td>\n",
       "      <td>7.0</td>\n",
       "      <td>13.0</td>\n",
       "      <td>13.0</td>\n",
       "      <td>9.0</td>\n",
       "      <td>0.0</td>\n",
       "      <td>0.0</td>\n",
       "    </tr>\n",
       "    <tr>\n",
       "      <th>4</th>\n",
       "      <td>0.0</td>\n",
       "      <td>0.0</td>\n",
       "      <td>0.0</td>\n",
       "      <td>1.0</td>\n",
       "      <td>11.0</td>\n",
       "      <td>0.0</td>\n",
       "      <td>0.0</td>\n",
       "      <td>0.0</td>\n",
       "      <td>0.0</td>\n",
       "      <td>0.0</td>\n",
       "      <td>...</td>\n",
       "      <td>0.0</td>\n",
       "      <td>0.0</td>\n",
       "      <td>0.0</td>\n",
       "      <td>0.0</td>\n",
       "      <td>0.0</td>\n",
       "      <td>2.0</td>\n",
       "      <td>16.0</td>\n",
       "      <td>4.0</td>\n",
       "      <td>0.0</td>\n",
       "      <td>0.0</td>\n",
       "    </tr>\n",
       "  </tbody>\n",
       "</table>\n",
       "<p>5 rows × 64 columns</p>\n",
       "</div>"
      ],
      "text/plain": [
       "    0    1    2     3     4     5    6    7    8    9   ...   54   55   56  \\\n",
       "0  0.0  0.0  5.0  13.0   9.0   1.0  0.0  0.0  0.0  0.0  ...  0.0  0.0  0.0   \n",
       "1  0.0  0.0  0.0  12.0  13.0   5.0  0.0  0.0  0.0  0.0  ...  0.0  0.0  0.0   \n",
       "2  0.0  0.0  0.0   4.0  15.0  12.0  0.0  0.0  0.0  0.0  ...  5.0  0.0  0.0   \n",
       "3  0.0  0.0  7.0  15.0  13.0   1.0  0.0  0.0  0.0  8.0  ...  9.0  0.0  0.0   \n",
       "4  0.0  0.0  0.0   1.0  11.0   0.0  0.0  0.0  0.0  0.0  ...  0.0  0.0  0.0   \n",
       "\n",
       "    57   58    59    60    61   62   63  \n",
       "0  0.0  6.0  13.0  10.0   0.0  0.0  0.0  \n",
       "1  0.0  0.0  11.0  16.0  10.0  0.0  0.0  \n",
       "2  0.0  0.0   3.0  11.0  16.0  9.0  0.0  \n",
       "3  0.0  7.0  13.0  13.0   9.0  0.0  0.0  \n",
       "4  0.0  0.0   2.0  16.0   4.0  0.0  0.0  \n",
       "\n",
       "[5 rows x 64 columns]"
      ]
     },
     "execution_count": 76,
     "metadata": {},
     "output_type": "execute_result"
    }
   ],
   "source": [
    "data.head()"
   ]
  },
  {
   "cell_type": "code",
   "execution_count": 77,
   "id": "dd7a001b",
   "metadata": {},
   "outputs": [
    {
     "data": {
      "text/plain": [
       "((1797, 64), (1797,), (10,), (1797, 8, 8))"
      ]
     },
     "execution_count": 77,
     "metadata": {},
     "output_type": "execute_result"
    }
   ],
   "source": [
    "digit.images[0] #sclicing the first key value from imgae\n",
    "digit.data.shape ,digit.target.shape ,digit.target_names.shape ,digit.images.shape"
   ]
  },
  {
   "cell_type": "code",
   "execution_count": 78,
   "id": "65cf13dd",
   "metadata": {},
   "outputs": [
    {
     "data": {
      "text/plain": [
       "<matplotlib.image.AxesImage at 0x28fda133790>"
      ]
     },
     "execution_count": 78,
     "metadata": {},
     "output_type": "execute_result"
    },
    {
     "data": {
      "image/png": "[encoded data removed]",
      "text/plain": [
       "<Figure size 432x288 with 1 Axes>"
      ]
     },
     "metadata": {
      "needs_background": "light"
     },
     "output_type": "display_data"
    }
   ],
   "source": [
    "#sample images\n",
    "plt.imshow(digit.images[0],cmap=plt.cm.gray) # Chnaging to Gray becuse mode can procees/understand information better for python"
   ]
  },
  {
   "cell_type": "code",
   "execution_count": 79,
   "id": "61e581c4",
   "metadata": {},
   "outputs": [
    {
     "data": {
      "image/png": "[encoded data removed]",
      "text/plain": [
       "<Figure size 1080x288 with 5 Axes>"
      ]
     },
     "metadata": {
      "needs_background": "light"
     },
     "output_type": "display_data"
    }
   ],
   "source": [
    "#- get info about enumerate and zip function\n",
    "\n",
    "#index value will take the 1st index from the digits data-- 0 upto 4\n",
    "#image value will take the 1st img from the data key value- 1-d array\n",
    "#label value will take the 1st label from the target value\n",
    "\n",
    "plt.figure(figsize=(15,4))\n",
    "for index,(image,label) in enumerate (zip(digit.data[0:5],digit.target[0:5])):\n",
    "    #print(index, (image, label))\n",
    "    plt.subplot(1,5,index+1)\n",
    "    plt.imshow(np.reshape(image,(8,8)),cmap=plt.cm.gray)\n",
    "    #digit.data[0].shape # give 64 ,so converting into 2 dimension array we can split this into 8*8 matrix\n"
   ]
  },
  {
   "cell_type": "code",
   "execution_count": 80,
   "id": "49b1897a",
   "metadata": {},
   "outputs": [],
   "source": [
    "x=digit.data #independent data-- all 64 features\n",
    "y=digit.target #dependnet data-- all the  labels on the images"
   ]
  },
  {
   "cell_type": "code",
   "execution_count": 81,
   "id": "a33b1973",
   "metadata": {},
   "outputs": [
    {
     "data": {
      "text/plain": [
       "array([[ 0.,  0.,  5., ...,  0.,  0.,  0.],\n",
       "       [ 0.,  0.,  0., ..., 10.,  0.,  0.],\n",
       "       [ 0.,  0.,  0., ..., 16.,  9.,  0.],\n",
       "       ...,\n",
       "       [ 0.,  0.,  1., ...,  6.,  0.,  0.],\n",
       "       [ 0.,  0.,  2., ..., 12.,  0.,  0.],\n",
       "       [ 0.,  0., 10., ..., 12.,  1.,  0.]])"
      ]
     },
     "execution_count": 81,
     "metadata": {},
     "output_type": "execute_result"
    }
   ],
   "source": [
    "x"
   ]
  },
  {
   "cell_type": "code",
   "execution_count": 82,
   "id": "1eb8d617",
   "metadata": {},
   "outputs": [
    {
     "data": {
      "text/plain": [
       "array([0, 1, 2, ..., 8, 9, 8])"
      ]
     },
     "execution_count": 82,
     "metadata": {},
     "output_type": "execute_result"
    }
   ],
   "source": [
    "y"
   ]
  },
  {
   "cell_type": "code",
   "execution_count": 83,
   "id": "70adee67",
   "metadata": {},
   "outputs": [
    {
     "data": {
      "text/plain": [
       "(1797, 64)"
      ]
     },
     "execution_count": 83,
     "metadata": {},
     "output_type": "execute_result"
    }
   ],
   "source": [
    "x.shape"
   ]
  },
  {
   "cell_type": "code",
   "execution_count": 84,
   "id": "2a7dfbe3",
   "metadata": {},
   "outputs": [
    {
     "data": {
      "text/plain": [
       "(1797,)"
      ]
     },
     "execution_count": 84,
     "metadata": {},
     "output_type": "execute_result"
    }
   ],
   "source": [
    "y.shape"
   ]
  },
  {
   "cell_type": "code",
   "execution_count": 85,
   "id": "6aefd9c3",
   "metadata": {},
   "outputs": [
    {
     "data": {
      "text/html": [
       "<div>\n",
       "<style scoped>\n",
       "    .dataframe tbody tr th:only-of-type {\n",
       "        vertical-align: middle;\n",
       "    }\n",
       "\n",
       "    .dataframe tbody tr th {\n",
       "        vertical-align: top;\n",
       "    }\n",
       "\n",
       "    .dataframe thead th {\n",
       "        text-align: right;\n",
       "    }\n",
       "</style>\n",
       "<table border=\"1\" class=\"dataframe\">\n",
       "  <thead>\n",
       "    <tr style=\"text-align: right;\">\n",
       "      <th></th>\n",
       "      <th>0</th>\n",
       "      <th>1</th>\n",
       "      <th>2</th>\n",
       "      <th>3</th>\n",
       "      <th>4</th>\n",
       "      <th>5</th>\n",
       "      <th>6</th>\n",
       "      <th>7</th>\n",
       "      <th>8</th>\n",
       "      <th>9</th>\n",
       "      <th>...</th>\n",
       "      <th>54</th>\n",
       "      <th>55</th>\n",
       "      <th>56</th>\n",
       "      <th>57</th>\n",
       "      <th>58</th>\n",
       "      <th>59</th>\n",
       "      <th>60</th>\n",
       "      <th>61</th>\n",
       "      <th>62</th>\n",
       "      <th>63</th>\n",
       "    </tr>\n",
       "  </thead>\n",
       "  <tbody>\n",
       "    <tr>\n",
       "      <th>count</th>\n",
       "      <td>1797.0</td>\n",
       "      <td>1797.000000</td>\n",
       "      <td>1797.000000</td>\n",
       "      <td>1797.000000</td>\n",
       "      <td>1797.000000</td>\n",
       "      <td>1797.000000</td>\n",
       "      <td>1797.000000</td>\n",
       "      <td>1797.000000</td>\n",
       "      <td>1797.000000</td>\n",
       "      <td>1797.000000</td>\n",
       "      <td>...</td>\n",
       "      <td>1797.000000</td>\n",
       "      <td>1797.000000</td>\n",
       "      <td>1797.000000</td>\n",
       "      <td>1797.000000</td>\n",
       "      <td>1797.000000</td>\n",
       "      <td>1797.000000</td>\n",
       "      <td>1797.000000</td>\n",
       "      <td>1797.000000</td>\n",
       "      <td>1797.000000</td>\n",
       "      <td>1797.000000</td>\n",
       "    </tr>\n",
       "    <tr>\n",
       "      <th>mean</th>\n",
       "      <td>0.0</td>\n",
       "      <td>0.303840</td>\n",
       "      <td>5.204786</td>\n",
       "      <td>11.835838</td>\n",
       "      <td>11.848080</td>\n",
       "      <td>5.781859</td>\n",
       "      <td>1.362270</td>\n",
       "      <td>0.129661</td>\n",
       "      <td>0.005565</td>\n",
       "      <td>1.993879</td>\n",
       "      <td>...</td>\n",
       "      <td>3.725097</td>\n",
       "      <td>0.206455</td>\n",
       "      <td>0.000556</td>\n",
       "      <td>0.279354</td>\n",
       "      <td>5.557596</td>\n",
       "      <td>12.089037</td>\n",
       "      <td>11.809126</td>\n",
       "      <td>6.764051</td>\n",
       "      <td>2.067891</td>\n",
       "      <td>0.364496</td>\n",
       "    </tr>\n",
       "    <tr>\n",
       "      <th>std</th>\n",
       "      <td>0.0</td>\n",
       "      <td>0.907192</td>\n",
       "      <td>4.754826</td>\n",
       "      <td>4.248842</td>\n",
       "      <td>4.287388</td>\n",
       "      <td>5.666418</td>\n",
       "      <td>3.325775</td>\n",
       "      <td>1.037383</td>\n",
       "      <td>0.094222</td>\n",
       "      <td>3.196160</td>\n",
       "      <td>...</td>\n",
       "      <td>4.919406</td>\n",
       "      <td>0.984401</td>\n",
       "      <td>0.023590</td>\n",
       "      <td>0.934302</td>\n",
       "      <td>5.103019</td>\n",
       "      <td>4.374694</td>\n",
       "      <td>4.933947</td>\n",
       "      <td>5.900623</td>\n",
       "      <td>4.090548</td>\n",
       "      <td>1.860122</td>\n",
       "    </tr>\n",
       "    <tr>\n",
       "      <th>min</th>\n",
       "      <td>0.0</td>\n",
       "      <td>0.000000</td>\n",
       "      <td>0.000000</td>\n",
       "      <td>0.000000</td>\n",
       "      <td>0.000000</td>\n",
       "      <td>0.000000</td>\n",
       "      <td>0.000000</td>\n",
       "      <td>0.000000</td>\n",
       "      <td>0.000000</td>\n",
       "      <td>0.000000</td>\n",
       "      <td>...</td>\n",
       "      <td>0.000000</td>\n",
       "      <td>0.000000</td>\n",
       "      <td>0.000000</td>\n",
       "      <td>0.000000</td>\n",
       "      <td>0.000000</td>\n",
       "      <td>0.000000</td>\n",
       "      <td>0.000000</td>\n",
       "      <td>0.000000</td>\n",
       "      <td>0.000000</td>\n",
       "      <td>0.000000</td>\n",
       "    </tr>\n",
       "    <tr>\n",
       "      <th>25%</th>\n",
       "      <td>0.0</td>\n",
       "      <td>0.000000</td>\n",
       "      <td>1.000000</td>\n",
       "      <td>10.000000</td>\n",
       "      <td>10.000000</td>\n",
       "      <td>0.000000</td>\n",
       "      <td>0.000000</td>\n",
       "      <td>0.000000</td>\n",
       "      <td>0.000000</td>\n",
       "      <td>0.000000</td>\n",
       "      <td>...</td>\n",
       "      <td>0.000000</td>\n",
       "      <td>0.000000</td>\n",
       "      <td>0.000000</td>\n",
       "      <td>0.000000</td>\n",
       "      <td>1.000000</td>\n",
       "      <td>11.000000</td>\n",
       "      <td>10.000000</td>\n",
       "      <td>0.000000</td>\n",
       "      <td>0.000000</td>\n",
       "      <td>0.000000</td>\n",
       "    </tr>\n",
       "    <tr>\n",
       "      <th>50%</th>\n",
       "      <td>0.0</td>\n",
       "      <td>0.000000</td>\n",
       "      <td>4.000000</td>\n",
       "      <td>13.000000</td>\n",
       "      <td>13.000000</td>\n",
       "      <td>4.000000</td>\n",
       "      <td>0.000000</td>\n",
       "      <td>0.000000</td>\n",
       "      <td>0.000000</td>\n",
       "      <td>0.000000</td>\n",
       "      <td>...</td>\n",
       "      <td>1.000000</td>\n",
       "      <td>0.000000</td>\n",
       "      <td>0.000000</td>\n",
       "      <td>0.000000</td>\n",
       "      <td>4.000000</td>\n",
       "      <td>13.000000</td>\n",
       "      <td>14.000000</td>\n",
       "      <td>6.000000</td>\n",
       "      <td>0.000000</td>\n",
       "      <td>0.000000</td>\n",
       "    </tr>\n",
       "    <tr>\n",
       "      <th>75%</th>\n",
       "      <td>0.0</td>\n",
       "      <td>0.000000</td>\n",
       "      <td>9.000000</td>\n",
       "      <td>15.000000</td>\n",
       "      <td>15.000000</td>\n",
       "      <td>11.000000</td>\n",
       "      <td>0.000000</td>\n",
       "      <td>0.000000</td>\n",
       "      <td>0.000000</td>\n",
       "      <td>3.000000</td>\n",
       "      <td>...</td>\n",
       "      <td>7.000000</td>\n",
       "      <td>0.000000</td>\n",
       "      <td>0.000000</td>\n",
       "      <td>0.000000</td>\n",
       "      <td>10.000000</td>\n",
       "      <td>16.000000</td>\n",
       "      <td>16.000000</td>\n",
       "      <td>12.000000</td>\n",
       "      <td>2.000000</td>\n",
       "      <td>0.000000</td>\n",
       "    </tr>\n",
       "    <tr>\n",
       "      <th>max</th>\n",
       "      <td>0.0</td>\n",
       "      <td>8.000000</td>\n",
       "      <td>16.000000</td>\n",
       "      <td>16.000000</td>\n",
       "      <td>16.000000</td>\n",
       "      <td>16.000000</td>\n",
       "      <td>16.000000</td>\n",
       "      <td>15.000000</td>\n",
       "      <td>2.000000</td>\n",
       "      <td>16.000000</td>\n",
       "      <td>...</td>\n",
       "      <td>16.000000</td>\n",
       "      <td>13.000000</td>\n",
       "      <td>1.000000</td>\n",
       "      <td>9.000000</td>\n",
       "      <td>16.000000</td>\n",
       "      <td>16.000000</td>\n",
       "      <td>16.000000</td>\n",
       "      <td>16.000000</td>\n",
       "      <td>16.000000</td>\n",
       "      <td>16.000000</td>\n",
       "    </tr>\n",
       "  </tbody>\n",
       "</table>\n",
       "<p>8 rows × 64 columns</p>\n",
       "</div>"
      ],
      "text/plain": [
       "           0            1            2            3            4   \\\n",
       "count  1797.0  1797.000000  1797.000000  1797.000000  1797.000000   \n",
       "mean      0.0     0.303840     5.204786    11.835838    11.848080   \n",
       "std       0.0     0.907192     4.754826     4.248842     4.287388   \n",
       "min       0.0     0.000000     0.000000     0.000000     0.000000   \n",
       "25%       0.0     0.000000     1.000000    10.000000    10.000000   \n",
       "50%       0.0     0.000000     4.000000    13.000000    13.000000   \n",
       "75%       0.0     0.000000     9.000000    15.000000    15.000000   \n",
       "max       0.0     8.000000    16.000000    16.000000    16.000000   \n",
       "\n",
       "                5            6            7            8            9   ...  \\\n",
       "count  1797.000000  1797.000000  1797.000000  1797.000000  1797.000000  ...   \n",
       "mean      5.781859     1.362270     0.129661     0.005565     1.993879  ...   \n",
       "std       5.666418     3.325775     1.037383     0.094222     3.196160  ...   \n",
       "min       0.000000     0.000000     0.000000     0.000000     0.000000  ...   \n",
       "25%       0.000000     0.000000     0.000000     0.000000     0.000000  ...   \n",
       "50%       4.000000     0.000000     0.000000     0.000000     0.000000  ...   \n",
       "75%      11.000000     0.000000     0.000000     0.000000     3.000000  ...   \n",
       "max      16.000000    16.000000    15.000000     2.000000    16.000000  ...   \n",
       "\n",
       "                54           55           56           57           58  \\\n",
       "count  1797.000000  1797.000000  1797.000000  1797.000000  1797.000000   \n",
       "mean      3.725097     0.206455     0.000556     0.279354     5.557596   \n",
       "std       4.919406     0.984401     0.023590     0.934302     5.103019   \n",
       "min       0.000000     0.000000     0.000000     0.000000     0.000000   \n",
       "25%       0.000000     0.000000     0.000000     0.000000     1.000000   \n",
       "50%       1.000000     0.000000     0.000000     0.000000     4.000000   \n",
       "75%       7.000000     0.000000     0.000000     0.000000    10.000000   \n",
       "max      16.000000    13.000000     1.000000     9.000000    16.000000   \n",
       "\n",
       "                59           60           61           62           63  \n",
       "count  1797.000000  1797.000000  1797.000000  1797.000000  1797.000000  \n",
       "mean     12.089037    11.809126     6.764051     2.067891     0.364496  \n",
       "std       4.374694     4.933947     5.900623     4.090548     1.860122  \n",
       "min       0.000000     0.000000     0.000000     0.000000     0.000000  \n",
       "25%      11.000000    10.000000     0.000000     0.000000     0.000000  \n",
       "50%      13.000000    14.000000     6.000000     0.000000     0.000000  \n",
       "75%      16.000000    16.000000    12.000000     2.000000     0.000000  \n",
       "max      16.000000    16.000000    16.000000    16.000000    16.000000  \n",
       "\n",
       "[8 rows x 64 columns]"
      ]
     },
     "execution_count": 85,
     "metadata": {},
     "output_type": "execute_result"
    }
   ],
   "source": [
    "data.describe()"
   ]
  },
  {
   "cell_type": "code",
   "execution_count": 87,
   "id": "3fc592b3",
   "metadata": {},
   "outputs": [],
   "source": [
    "#Data Normalization/scaling \n",
    "from sklearn.preprocessing import StandardScaler\n",
    "x_std1=StandardScaler()\n",
    "x_std=x_std1.fit_transform(x)"
   ]
  },
  {
   "cell_type": "code",
   "execution_count": null,
   "id": "bec0ca24",
   "metadata": {},
   "outputs": [],
   "source": [
    "x.shape , x_std.shape"
   ]
  },
  {
   "cell_type": "code",
   "execution_count": 101,
   "id": "7e7275c1",
   "metadata": {},
   "outputs": [
    {
     "data": {
      "text/html": [
       "<div>\n",
       "<style scoped>\n",
       "    .dataframe tbody tr th:only-of-type {\n",
       "        vertical-align: middle;\n",
       "    }\n",
       "\n",
       "    .dataframe tbody tr th {\n",
       "        vertical-align: top;\n",
       "    }\n",
       "\n",
       "    .dataframe thead th {\n",
       "        text-align: right;\n",
       "    }\n",
       "</style>\n",
       "<table border=\"1\" class=\"dataframe\">\n",
       "  <thead>\n",
       "    <tr style=\"text-align: right;\">\n",
       "      <th></th>\n",
       "      <th>0</th>\n",
       "      <th>1</th>\n",
       "      <th>2</th>\n",
       "      <th>3</th>\n",
       "      <th>4</th>\n",
       "      <th>5</th>\n",
       "      <th>6</th>\n",
       "      <th>7</th>\n",
       "      <th>8</th>\n",
       "      <th>9</th>\n",
       "      <th>...</th>\n",
       "      <th>1787</th>\n",
       "      <th>1788</th>\n",
       "      <th>1789</th>\n",
       "      <th>1790</th>\n",
       "      <th>1791</th>\n",
       "      <th>1792</th>\n",
       "      <th>1793</th>\n",
       "      <th>1794</th>\n",
       "      <th>1795</th>\n",
       "      <th>1796</th>\n",
       "    </tr>\n",
       "  </thead>\n",
       "  <tbody>\n",
       "    <tr>\n",
       "      <th>0</th>\n",
       "      <td>0.000000</td>\n",
       "      <td>0.000000</td>\n",
       "      <td>0.000000</td>\n",
       "      <td>0.000000</td>\n",
       "      <td>0.000000</td>\n",
       "      <td>0.000000</td>\n",
       "      <td>0.000000</td>\n",
       "      <td>0.000000</td>\n",
       "      <td>0.000000</td>\n",
       "      <td>0.000000</td>\n",
       "      <td>...</td>\n",
       "      <td>0.000000</td>\n",
       "      <td>0.000000</td>\n",
       "      <td>0.000000</td>\n",
       "      <td>0.000000</td>\n",
       "      <td>0.000000</td>\n",
       "      <td>0.000000</td>\n",
       "      <td>0.000000</td>\n",
       "      <td>0.000000</td>\n",
       "      <td>0.000000</td>\n",
       "      <td>0.000000</td>\n",
       "    </tr>\n",
       "    <tr>\n",
       "      <th>1</th>\n",
       "      <td>-0.335016</td>\n",
       "      <td>-0.335016</td>\n",
       "      <td>-0.335016</td>\n",
       "      <td>-0.335016</td>\n",
       "      <td>-0.335016</td>\n",
       "      <td>-0.335016</td>\n",
       "      <td>-0.335016</td>\n",
       "      <td>-0.335016</td>\n",
       "      <td>-0.335016</td>\n",
       "      <td>-0.335016</td>\n",
       "      <td>...</td>\n",
       "      <td>-0.335016</td>\n",
       "      <td>-0.335016</td>\n",
       "      <td>-0.335016</td>\n",
       "      <td>-0.335016</td>\n",
       "      <td>-0.335016</td>\n",
       "      <td>-0.335016</td>\n",
       "      <td>-0.335016</td>\n",
       "      <td>-0.335016</td>\n",
       "      <td>-0.335016</td>\n",
       "      <td>-0.335016</td>\n",
       "    </tr>\n",
       "    <tr>\n",
       "      <th>2</th>\n",
       "      <td>-0.043081</td>\n",
       "      <td>-1.094937</td>\n",
       "      <td>-1.094937</td>\n",
       "      <td>0.377661</td>\n",
       "      <td>-1.094937</td>\n",
       "      <td>1.429517</td>\n",
       "      <td>-1.094937</td>\n",
       "      <td>0.377661</td>\n",
       "      <td>0.798404</td>\n",
       "      <td>1.219146</td>\n",
       "      <td>...</td>\n",
       "      <td>1.008775</td>\n",
       "      <td>-1.094937</td>\n",
       "      <td>0.588032</td>\n",
       "      <td>-0.043081</td>\n",
       "      <td>-1.094937</td>\n",
       "      <td>-0.253452</td>\n",
       "      <td>0.167290</td>\n",
       "      <td>-0.884566</td>\n",
       "      <td>-0.674195</td>\n",
       "      <td>1.008775</td>\n",
       "    </tr>\n",
       "    <tr>\n",
       "      <th>3</th>\n",
       "      <td>0.274072</td>\n",
       "      <td>0.038648</td>\n",
       "      <td>-1.844742</td>\n",
       "      <td>0.744919</td>\n",
       "      <td>-2.551014</td>\n",
       "      <td>-0.432200</td>\n",
       "      <td>0.038648</td>\n",
       "      <td>-0.903047</td>\n",
       "      <td>0.509495</td>\n",
       "      <td>0.038648</td>\n",
       "      <td>...</td>\n",
       "      <td>0.980343</td>\n",
       "      <td>-2.551014</td>\n",
       "      <td>0.980343</td>\n",
       "      <td>0.038648</td>\n",
       "      <td>-2.080166</td>\n",
       "      <td>-0.432200</td>\n",
       "      <td>0.980343</td>\n",
       "      <td>-0.196776</td>\n",
       "      <td>-0.432200</td>\n",
       "      <td>0.509495</td>\n",
       "    </tr>\n",
       "    <tr>\n",
       "      <th>4</th>\n",
       "      <td>-0.664478</td>\n",
       "      <td>0.268751</td>\n",
       "      <td>0.735366</td>\n",
       "      <td>0.268751</td>\n",
       "      <td>-0.197863</td>\n",
       "      <td>-2.764242</td>\n",
       "      <td>0.268751</td>\n",
       "      <td>0.268751</td>\n",
       "      <td>-0.897785</td>\n",
       "      <td>-2.764242</td>\n",
       "      <td>...</td>\n",
       "      <td>0.735366</td>\n",
       "      <td>0.035444</td>\n",
       "      <td>-2.064321</td>\n",
       "      <td>-0.897785</td>\n",
       "      <td>0.735366</td>\n",
       "      <td>0.268751</td>\n",
       "      <td>0.268751</td>\n",
       "      <td>0.735366</td>\n",
       "      <td>-1.131092</td>\n",
       "      <td>-0.897785</td>\n",
       "    </tr>\n",
       "    <tr>\n",
       "      <th>...</th>\n",
       "      <td>...</td>\n",
       "      <td>...</td>\n",
       "      <td>...</td>\n",
       "      <td>...</td>\n",
       "      <td>...</td>\n",
       "      <td>...</td>\n",
       "      <td>...</td>\n",
       "      <td>...</td>\n",
       "      <td>...</td>\n",
       "      <td>...</td>\n",
       "      <td>...</td>\n",
       "      <td>...</td>\n",
       "      <td>...</td>\n",
       "      <td>...</td>\n",
       "      <td>...</td>\n",
       "      <td>...</td>\n",
       "      <td>...</td>\n",
       "      <td>...</td>\n",
       "      <td>...</td>\n",
       "      <td>...</td>\n",
       "      <td>...</td>\n",
       "    </tr>\n",
       "    <tr>\n",
       "      <th>59</th>\n",
       "      <td>0.208293</td>\n",
       "      <td>-0.249010</td>\n",
       "      <td>-2.078218</td>\n",
       "      <td>0.208293</td>\n",
       "      <td>-2.306869</td>\n",
       "      <td>0.894246</td>\n",
       "      <td>-0.706312</td>\n",
       "      <td>-1.620916</td>\n",
       "      <td>0.894246</td>\n",
       "      <td>-0.020358</td>\n",
       "      <td>...</td>\n",
       "      <td>0.208293</td>\n",
       "      <td>-2.764171</td>\n",
       "      <td>0.894246</td>\n",
       "      <td>-0.020358</td>\n",
       "      <td>-2.535520</td>\n",
       "      <td>0.436944</td>\n",
       "      <td>0.894246</td>\n",
       "      <td>-0.706312</td>\n",
       "      <td>-0.020358</td>\n",
       "      <td>-0.020358</td>\n",
       "    </tr>\n",
       "    <tr>\n",
       "      <th>60</th>\n",
       "      <td>-0.366771</td>\n",
       "      <td>0.849632</td>\n",
       "      <td>-0.164037</td>\n",
       "      <td>0.241430</td>\n",
       "      <td>0.849632</td>\n",
       "      <td>0.849632</td>\n",
       "      <td>0.646898</td>\n",
       "      <td>-2.394110</td>\n",
       "      <td>0.646898</td>\n",
       "      <td>0.241430</td>\n",
       "      <td>...</td>\n",
       "      <td>-0.366771</td>\n",
       "      <td>0.444164</td>\n",
       "      <td>-0.366771</td>\n",
       "      <td>0.038697</td>\n",
       "      <td>0.849632</td>\n",
       "      <td>0.646898</td>\n",
       "      <td>0.444164</td>\n",
       "      <td>0.241430</td>\n",
       "      <td>0.849632</td>\n",
       "      <td>0.444164</td>\n",
       "    </tr>\n",
       "    <tr>\n",
       "      <th>61</th>\n",
       "      <td>-1.146647</td>\n",
       "      <td>0.548561</td>\n",
       "      <td>1.565686</td>\n",
       "      <td>0.379040</td>\n",
       "      <td>-0.468564</td>\n",
       "      <td>0.548561</td>\n",
       "      <td>0.718081</td>\n",
       "      <td>-1.146647</td>\n",
       "      <td>0.718081</td>\n",
       "      <td>-0.638085</td>\n",
       "      <td>...</td>\n",
       "      <td>-0.468564</td>\n",
       "      <td>0.379040</td>\n",
       "      <td>-0.977127</td>\n",
       "      <td>-0.638085</td>\n",
       "      <td>-0.468564</td>\n",
       "      <td>0.379040</td>\n",
       "      <td>-0.129523</td>\n",
       "      <td>-0.129523</td>\n",
       "      <td>0.887602</td>\n",
       "      <td>0.887602</td>\n",
       "    </tr>\n",
       "    <tr>\n",
       "      <th>62</th>\n",
       "      <td>-0.505670</td>\n",
       "      <td>-0.505670</td>\n",
       "      <td>1.695137</td>\n",
       "      <td>-0.505670</td>\n",
       "      <td>-0.505670</td>\n",
       "      <td>-0.505670</td>\n",
       "      <td>0.227932</td>\n",
       "      <td>-0.505670</td>\n",
       "      <td>-0.261136</td>\n",
       "      <td>-0.505670</td>\n",
       "      <td>...</td>\n",
       "      <td>-0.505670</td>\n",
       "      <td>-0.505670</td>\n",
       "      <td>-0.505670</td>\n",
       "      <td>-0.505670</td>\n",
       "      <td>-0.505670</td>\n",
       "      <td>-0.505670</td>\n",
       "      <td>-0.505670</td>\n",
       "      <td>-0.505670</td>\n",
       "      <td>-0.505670</td>\n",
       "      <td>-0.261136</td>\n",
       "    </tr>\n",
       "    <tr>\n",
       "      <th>63</th>\n",
       "      <td>-0.196008</td>\n",
       "      <td>-0.196008</td>\n",
       "      <td>-0.196008</td>\n",
       "      <td>-0.196008</td>\n",
       "      <td>-0.196008</td>\n",
       "      <td>-0.196008</td>\n",
       "      <td>-0.196008</td>\n",
       "      <td>-0.196008</td>\n",
       "      <td>-0.196008</td>\n",
       "      <td>-0.196008</td>\n",
       "      <td>...</td>\n",
       "      <td>-0.196008</td>\n",
       "      <td>-0.196008</td>\n",
       "      <td>-0.196008</td>\n",
       "      <td>-0.196008</td>\n",
       "      <td>-0.196008</td>\n",
       "      <td>-0.196008</td>\n",
       "      <td>-0.196008</td>\n",
       "      <td>-0.196008</td>\n",
       "      <td>-0.196008</td>\n",
       "      <td>-0.196008</td>\n",
       "    </tr>\n",
       "  </tbody>\n",
       "</table>\n",
       "<p>64 rows × 1797 columns</p>\n",
       "</div>"
      ],
      "text/plain": [
       "        0         1         2         3         4         5         6     \\\n",
       "0   0.000000  0.000000  0.000000  0.000000  0.000000  0.000000  0.000000   \n",
       "1  -0.335016 -0.335016 -0.335016 -0.335016 -0.335016 -0.335016 -0.335016   \n",
       "2  -0.043081 -1.094937 -1.094937  0.377661 -1.094937  1.429517 -1.094937   \n",
       "3   0.274072  0.038648 -1.844742  0.744919 -2.551014 -0.432200  0.038648   \n",
       "4  -0.664478  0.268751  0.735366  0.268751 -0.197863 -2.764242  0.268751   \n",
       "..       ...       ...       ...       ...       ...       ...       ...   \n",
       "59  0.208293 -0.249010 -2.078218  0.208293 -2.306869  0.894246 -0.706312   \n",
       "60 -0.366771  0.849632 -0.164037  0.241430  0.849632  0.849632  0.646898   \n",
       "61 -1.146647  0.548561  1.565686  0.379040 -0.468564  0.548561  0.718081   \n",
       "62 -0.505670 -0.505670  1.695137 -0.505670 -0.505670 -0.505670  0.227932   \n",
       "63 -0.196008 -0.196008 -0.196008 -0.196008 -0.196008 -0.196008 -0.196008   \n",
       "\n",
       "        7         8         9     ...      1787      1788      1789      1790  \\\n",
       "0   0.000000  0.000000  0.000000  ...  0.000000  0.000000  0.000000  0.000000   \n",
       "1  -0.335016 -0.335016 -0.335016  ... -0.335016 -0.335016 -0.335016 -0.335016   \n",
       "2   0.377661  0.798404  1.219146  ...  1.008775 -1.094937  0.588032 -0.043081   \n",
       "3  -0.903047  0.509495  0.038648  ...  0.980343 -2.551014  0.980343  0.038648   \n",
       "4   0.268751 -0.897785 -2.764242  ...  0.735366  0.035444 -2.064321 -0.897785   \n",
       "..       ...       ...       ...  ...       ...       ...       ...       ...   \n",
       "59 -1.620916  0.894246 -0.020358  ...  0.208293 -2.764171  0.894246 -0.020358   \n",
       "60 -2.394110  0.646898  0.241430  ... -0.366771  0.444164 -0.366771  0.038697   \n",
       "61 -1.146647  0.718081 -0.638085  ... -0.468564  0.379040 -0.977127 -0.638085   \n",
       "62 -0.505670 -0.261136 -0.505670  ... -0.505670 -0.505670 -0.505670 -0.505670   \n",
       "63 -0.196008 -0.196008 -0.196008  ... -0.196008 -0.196008 -0.196008 -0.196008   \n",
       "\n",
       "        1791      1792      1793      1794      1795      1796  \n",
       "0   0.000000  0.000000  0.000000  0.000000  0.000000  0.000000  \n",
       "1  -0.335016 -0.335016 -0.335016 -0.335016 -0.335016 -0.335016  \n",
       "2  -1.094937 -0.253452  0.167290 -0.884566 -0.674195  1.008775  \n",
       "3  -2.080166 -0.432200  0.980343 -0.196776 -0.432200  0.509495  \n",
       "4   0.735366  0.268751  0.268751  0.735366 -1.131092 -0.897785  \n",
       "..       ...       ...       ...       ...       ...       ...  \n",
       "59 -2.535520  0.436944  0.894246 -0.706312 -0.020358 -0.020358  \n",
       "60  0.849632  0.646898  0.444164  0.241430  0.849632  0.444164  \n",
       "61 -0.468564  0.379040 -0.129523 -0.129523  0.887602  0.887602  \n",
       "62 -0.505670 -0.505670 -0.505670 -0.505670 -0.505670 -0.261136  \n",
       "63 -0.196008 -0.196008 -0.196008 -0.196008 -0.196008 -0.196008  \n",
       "\n",
       "[64 rows x 1797 columns]"
      ]
     },
     "execution_count": 101,
     "metadata": {},
     "output_type": "execute_result"
    }
   ],
   "source": [
    "#Changing the Rows to coloumn for finding the Covariance matrix \n",
    "x1=x_std.T\n",
    "x1.shape\n",
    "pd.DataFrame(x1)"
   ]
  },
  {
   "cell_type": "code",
   "execution_count": 90,
   "id": "875e25a7",
   "metadata": {},
   "outputs": [
    {
     "data": {
      "text/plain": [
       "(64, 1797)"
      ]
     },
     "execution_count": 90,
     "metadata": {},
     "output_type": "execute_result"
    }
   ],
   "source": [
    "x1.shape"
   ]
  },
  {
   "cell_type": "code",
   "execution_count": 91,
   "id": "40254513",
   "metadata": {},
   "outputs": [
    {
     "data": {
      "text/plain": [
       "array([[ 0.        ,  0.        ,  0.        , ...,  0.        ,\n",
       "         0.        ,  0.        ],\n",
       "       [ 0.        ,  1.00055679,  0.55692803, ..., -0.02988686,\n",
       "         0.02656195, -0.04391324],\n",
       "       [ 0.        ,  0.55692803,  1.00055679, ..., -0.04120565,\n",
       "         0.07263924,  0.08256908],\n",
       "       ...,\n",
       "       [ 0.        , -0.02988686, -0.04120565, ...,  1.00055679,\n",
       "         0.64868875,  0.26213704],\n",
       "       [ 0.        ,  0.02656195,  0.07263924, ...,  0.64868875,\n",
       "         1.00055679,  0.62077355],\n",
       "       [ 0.        , -0.04391324,  0.08256908, ...,  0.26213704,\n",
       "         0.62077355,  1.00055679]])"
      ]
     },
     "execution_count": 91,
     "metadata": {},
     "output_type": "execute_result"
    }
   ],
   "source": [
    "# Covariance matrix :- we will send the features to covariance matrix to create new set of features which will be linearly dependent of oringal values.\n",
    "# for finding the eigen values and eigen vecs we have to transform original features to covraiance matrix.\n",
    "cov_mat = np.cov(x1)\n",
    "cov_mat"
   ]
  },
  {
   "cell_type": "code",
   "execution_count": 94,
   "id": "615a1e25",
   "metadata": {},
   "outputs": [],
   "source": [
    "eig_vals,eig_vecs=np.linalg.eig(cov_mat)"
   ]
  },
  {
   "cell_type": "code",
   "execution_count": 95,
   "id": "ae3a53cc",
   "metadata": {},
   "outputs": [
    {
     "data": {
      "text/plain": [
       "array([7.34477606, 5.83549054, 5.15396118, 3.96623597, 2.9663452 ,\n",
       "       2.57204442, 2.40600941, 2.06867355, 1.82993314, 1.78951739,\n",
       "       1.69784616, 1.57287889, 1.38870781, 1.35933609, 1.32152536,\n",
       "       1.16829176, 1.08368678, 0.99977862, 0.97438293, 0.90891242,\n",
       "       0.82271926, 0.77631014, 0.71155675, 0.64552365, 0.59527399,\n",
       "       0.5765018 , 0.52673155, 0.5106363 , 0.48686381, 0.45560107,\n",
       "       0.44285155, 0.42230086, 0.3991063 , 0.39110111, 0.36094517,\n",
       "       0.34860306, 0.3195963 , 0.05037444, 0.29406627, 0.27692285,\n",
       "       0.06328961, 0.258273  , 0.24783029, 0.2423566 , 0.07635394,\n",
       "       0.08246812, 0.09018543, 0.09840876, 0.10250434, 0.11188655,\n",
       "       0.11932898, 0.12426371, 0.13321081, 0.14311427, 0.217582  ,\n",
       "       0.15818474, 0.16875236, 0.20799593, 0.17612894, 0.2000909 ,\n",
       "       0.18983516, 0.        , 0.        , 0.        ])"
      ]
     },
     "execution_count": 95,
     "metadata": {},
     "output_type": "execute_result"
    }
   ],
   "source": [
    "eig_vals"
   ]
  },
  {
   "cell_type": "code",
   "execution_count": 96,
   "id": "b46f319b",
   "metadata": {},
   "outputs": [
    {
     "data": {
      "text/plain": [
       "array([[ 0.        ,  0.        ,  0.        , ...,  1.        ,\n",
       "         0.        ,  0.        ],\n",
       "       [ 0.18223392, -0.04702701,  0.02358821, ...,  0.        ,\n",
       "         0.        ,  0.        ],\n",
       "       [ 0.285868  , -0.0595648 , -0.05679875, ...,  0.        ,\n",
       "         0.        ,  0.        ],\n",
       "       ...,\n",
       "       [ 0.103198  ,  0.24261778, -0.02227952, ...,  0.        ,\n",
       "         0.        ,  0.        ],\n",
       "       [ 0.1198106 ,  0.16508926,  0.10036559, ...,  0.        ,\n",
       "         0.        ,  0.        ],\n",
       "       [ 0.07149362,  0.07132924,  0.09244589, ...,  0.        ,\n",
       "         0.        ,  0.        ]])"
      ]
     },
     "execution_count": 96,
     "metadata": {},
     "output_type": "execute_result"
    }
   ],
   "source": [
    "eig_vecs"
   ]
  },
  {
   "cell_type": "code",
   "execution_count": 98,
   "id": "053bab77",
   "metadata": {},
   "outputs": [
    {
     "data": {
      "text/plain": [
       "[12.03391609773492,\n",
       " 9.56105440309786,\n",
       " 8.444414892624536,\n",
       " 6.498407907524184,\n",
       " 4.8601548759663995,\n",
       " 4.214119869271945,\n",
       " 3.9420828035673696,\n",
       " 3.3893809246383597,\n",
       " 2.9982210116252483,\n",
       " 2.9320025512522196,\n",
       " 2.7818054635503233,\n",
       " 2.5770550925819937,\n",
       " 2.275303315764248,\n",
       " 2.2271797395143507,\n",
       " 2.165229431849245,\n",
       " 1.9141666064421279,\n",
       " 1.775547085168197,\n",
       " 1.638069274284421,\n",
       " 1.596460168862351,\n",
       " 1.4891911870878172,\n",
       " 1.3479695658179434,\n",
       " 1.2719313702347579,\n",
       " 1.1658373505919493,\n",
       " 1.057646598536324,\n",
       " 0.9753159471981101,\n",
       " 0.9445589897319969,\n",
       " 0.8630138269707207,\n",
       " 0.8366428536685153,\n",
       " 0.7976932484112406,\n",
       " 0.7464713709260608,\n",
       " 0.7255821513702747,\n",
       " 0.691911245481182,\n",
       " 0.6539085355726193,\n",
       " 0.6407925738459858,\n",
       " 0.5913841117223411,\n",
       " 0.5711624052235243,\n",
       " 0.523636803416638,\n",
       " 0.08253509448180331,\n",
       " 0.48180758644514254,\n",
       " 0.45371925985845096,\n",
       " 0.10369573015571894,\n",
       " 0.42316275323277974,\n",
       " 0.406053069979039,\n",
       " 0.3970848082758284,\n",
       " 0.125100742497302,\n",
       " 0.13511841133708552,\n",
       " 0.14776269410608803,\n",
       " 0.16123606225673037,\n",
       " 0.16794638749558352,\n",
       " 0.18331849919718254,\n",
       " 0.19551242601981872,\n",
       " 0.20359763452537635,\n",
       " 0.21825685771200815,\n",
       " 0.23448300553563461,\n",
       " 0.35649330314261735,\n",
       " 0.2591749408814646,\n",
       " 0.27648926352354497,\n",
       " 0.3407871814702998,\n",
       " 0.2885752941089343,\n",
       " 0.3278353352879544,\n",
       " 0.31103200734535674,\n",
       " 0.0,\n",
       " 0.0,\n",
       " 0.0]"
      ]
     },
     "execution_count": 98,
     "metadata": {},
     "output_type": "execute_result"
    }
   ],
   "source": [
    "#Explained variance - This will help you find how much data has been understood by your model\n",
    "#in other words this will help you find how much % of data has individual eigen value , high value high dependency\n",
    "\n",
    "tot=sum(eig_vals) # result :- 61.03396436525623\n",
    "exp_var=[(i/tot)*100 for i in (eig_vals)]\n",
    "#exp_var=[(i/tot)*100 for i in sorted(eig_vals,reverse=True)] - Sorting data from high to low\n",
    "exp_var"
   ]
  },
  {
   "cell_type": "code",
   "execution_count": 99,
   "id": "6e559b13",
   "metadata": {},
   "outputs": [
    {
     "data": {
      "text/plain": [
       "array([ 12.0339161 ,  21.5949705 ,  30.03938539,  36.5377933 ,\n",
       "        41.39794818,  45.61206805,  49.55415085,  52.94353177,\n",
       "        55.94175279,  58.87375534,  61.6555608 ,  64.23261589,\n",
       "        66.50791921,  68.73509895,  70.90032838,  72.81449499,\n",
       "        74.59004207,  76.22811135,  77.82457152,  79.3137627 ,\n",
       "        80.66173227,  81.93366364,  83.09950099,  84.15714759,\n",
       "        85.13246353,  86.07702252,  86.94003635,  87.77667921,\n",
       "        88.57437245,  89.32084382,  90.04642598,  90.73833722,\n",
       "        91.39224576,  92.03303833,  92.62442244,  93.19558485,\n",
       "        93.71922165,  93.80175675,  94.28356433,  94.73728359,\n",
       "        94.84097932,  95.26414208,  95.67019515,  96.06727995,\n",
       "        96.1923807 ,  96.32749911,  96.4752618 ,  96.63649786,\n",
       "        96.80444425,  96.98776275,  97.18327518,  97.38687281,\n",
       "        97.60512967,  97.83961267,  98.19610598,  98.45528092,\n",
       "        98.73177018,  99.07255736,  99.36113266,  99.68896799,\n",
       "       100.        , 100.        , 100.        , 100.        ])"
      ]
     },
     "execution_count": 99,
     "metadata": {},
     "output_type": "execute_result"
    }
   ],
   "source": [
    "#Cumulative explained Variance :- total sum of explained variance \n",
    "# get info about cumsum\n",
    "\n",
    "cum_exp_var=np.cumsum(exp_var)\n",
    "cum_exp_var"
   ]
  },
  {
   "cell_type": "code",
   "execution_count": 100,
   "id": "2b232c93",
   "metadata": {},
   "outputs": [
    {
     "data": {
      "text/plain": [
       "<function matplotlib.pyplot.show(close=None, block=None)>"
      ]
     },
     "execution_count": 100,
     "metadata": {},
     "output_type": "execute_result"
    },
    {
     "data": {
      "image/png": "[encoded data removed]",
      "text/plain": [
       "<Figure size 720x360 with 1 Axes>"
      ]
     },
     "metadata": {
      "needs_background": "light"
     },
     "output_type": "display_data"
    }
   ],
   "source": [
    "# Plot the Graph with Explained and Cumulative explained variance to find how much model got the information.\n",
    "#By plotting graph we can reduce the features .\n",
    "\n",
    "plt.figure(figsize=(10,5))\n",
    "plt.bar(range(len(exp_var)),exp_var ,label='individual Explained varience',color='g')\n",
    "plt.step(range(len(cum_exp_var)),cum_exp_var,label='Cumulative explained variance')\n",
    "plt.xlabel('Explained variance')\n",
    "plt.ylabel('Total/Principle components')\n",
    "plt.legend()\n",
    "plt.show"
   ]
  },
  {
   "cell_type": "code",
   "execution_count": 104,
   "id": "b152f0fc",
   "metadata": {},
   "outputs": [],
   "source": [
    "#Split the data into train test model.\n",
    "x_train,x_test,y_train,y_test=train_test_split(x_std,y,train_size=0.8)"
   ]
  },
  {
   "cell_type": "code",
   "execution_count": 105,
   "id": "7a2a3c48",
   "metadata": {},
   "outputs": [
    {
     "data": {
      "text/plain": [
       "array([[ 0.        , -0.33501649, -0.88456568, ...,  1.39616473,\n",
       "         3.40687545,  7.87022556],\n",
       "       [ 0.        , -0.33501649, -0.25345218, ..., -0.29904339,\n",
       "        -0.5056698 , -0.19600752],\n",
       "       [ 0.        ,  1.87020193,  1.42951714, ..., -0.97712664,\n",
       "        -0.5056698 , -0.19600752],\n",
       "       ...,\n",
       "       [ 0.        , -0.33501649,  1.21914597, ...,  0.8876023 ,\n",
       "         0.71700059, -0.19600752],\n",
       "       [ 0.        , -0.33501649,  0.79840364, ..., -0.12952258,\n",
       "        -0.5056698 , -0.19600752],\n",
       "       [ 0.        , -0.33501649, -0.25345218, ...,  0.8876023 ,\n",
       "         0.71700059, -0.19600752]])"
      ]
     },
     "execution_count": 105,
     "metadata": {},
     "output_type": "execute_result"
    }
   ],
   "source": [
    "x_train"
   ]
  },
  {
   "cell_type": "code",
   "execution_count": 106,
   "id": "0be85c21",
   "metadata": {},
   "outputs": [
    {
     "data": {
      "text/plain": [
       "array([[ 0.        , -0.33501649, -1.09493684, ...,  1.05712311,\n",
       "        -0.26113572, -0.19600752],\n",
       "       [ 0.        , -0.33501649,  0.79840364, ..., -0.63808502,\n",
       "        -0.5056698 , -0.19600752],\n",
       "       [ 0.        , -0.33501649, -0.88456568, ...,  0.20951905,\n",
       "        -0.5056698 , -0.19600752],\n",
       "       ...,\n",
       "       [ 0.        , -0.33501649,  1.42951714, ...,  0.03999823,\n",
       "        -0.5056698 , -0.19600752],\n",
       "       [ 0.        , -0.33501649,  0.37766131, ..., -1.14664746,\n",
       "        -0.5056698 , -0.19600752],\n",
       "       [ 0.        , -0.33501649, -1.09493684, ..., -1.14664746,\n",
       "        -0.5056698 , -0.19600752]])"
      ]
     },
     "execution_count": 106,
     "metadata": {},
     "output_type": "execute_result"
    }
   ],
   "source": [
    "x_test"
   ]
  },
  {
   "cell_type": "code",
   "execution_count": 109,
   "id": "0a49be96",
   "metadata": {},
   "outputs": [
    {
     "data": {
      "text/plain": [
       "((1437, 64), (360, 64))"
      ]
     },
     "execution_count": 109,
     "metadata": {},
     "output_type": "execute_result"
    }
   ],
   "source": [
    "x_train.shape,x_test.shape"
   ]
  },
  {
   "cell_type": "code",
   "execution_count": 110,
   "id": "d7122259",
   "metadata": {},
   "outputs": [],
   "source": [
    "#Working with PCA\n",
    "pca=PCA(n_components=20) # by the graph we see Only 20 featues are useful out of 64 \n",
    "pca_x_train=pca.fit_transform(x_train) # We are fitting the 20 features into X_train whose row = 1437 ,coloumn = 64\n",
    "pca_x_test=pca.transform(x_test) # We are fitting the 20 features into X_train whose row = 360 ,coloumn = 64"
   ]
  },
  {
   "cell_type": "code",
   "execution_count": 111,
   "id": "4320a4c4",
   "metadata": {},
   "outputs": [
    {
     "data": {
      "text/plain": [
       "((1437, 20), (360, 20))"
      ]
     },
     "execution_count": 111,
     "metadata": {},
     "output_type": "execute_result"
    }
   ],
   "source": [
    "pca_x_train.shape , pca_x_test.shape # we can see same rows with 20 number of features"
   ]
  },
  {
   "cell_type": "code",
   "execution_count": 116,
   "id": "615b8816",
   "metadata": {},
   "outputs": [
    {
     "data": {
      "text/plain": [
       "(1437,)"
      ]
     },
     "execution_count": 116,
     "metadata": {},
     "output_type": "execute_result"
    }
   ],
   "source": [
    "#PCA part is completed \n",
    "#Now using Decision Tree we are going to predict the data and check the accuracy_score , confusion_matrix\n",
    "\n",
    "y_train.shape"
   ]
  },
  {
   "cell_type": "code",
   "execution_count": 132,
   "id": "042f5ae0",
   "metadata": {},
   "outputs": [
    {
     "data": {
      "text/plain": [
       "array([0, 0, 8, 4, 9, 0, 7, 4, 7, 7, 1, 5, 8, 4, 4, 4, 3, 7, 5, 5, 7, 2,\n",
       "       6, 6, 5, 1, 4, 9, 1, 8, 7, 6, 4, 4, 0, 0, 3, 7, 5, 9, 2, 2, 8, 8,\n",
       "       5, 5, 7, 5, 0, 9, 4, 9, 6, 2, 8, 6, 3, 8, 8, 8, 7, 2, 0, 4, 8, 6,\n",
       "       7, 7, 7, 6, 5, 9, 3, 6, 9, 8, 7, 5, 3, 9, 1, 5, 4, 2, 5, 1, 6, 1,\n",
       "       0, 3, 9, 8, 5, 4, 6, 9, 7, 8, 8, 2, 6, 5, 6, 9, 2, 5, 9, 3, 5, 2,\n",
       "       3, 7, 1, 6, 0, 0, 6, 8, 0, 8, 2, 2, 5, 5, 7, 4, 8, 7, 1, 6, 7, 5,\n",
       "       3, 7, 1, 3, 9, 1, 9, 6, 7, 1, 7, 5, 1, 1, 0, 4, 7, 5, 5, 2, 2, 5,\n",
       "       6, 6, 3, 2, 3, 1, 2, 1, 2, 5, 5, 0, 1, 9, 9, 2, 9, 3, 9, 3, 1, 3,\n",
       "       6, 3, 2, 0, 5, 7, 0, 6, 1, 5, 1, 8, 3, 1, 1, 0, 7, 3, 6, 5, 3, 3,\n",
       "       3, 2, 4, 5, 8, 9, 6, 6, 7, 8, 8, 4, 4, 5, 4, 3, 5, 4, 1, 1, 9, 4,\n",
       "       6, 0, 4, 5, 0, 0, 8, 0, 2, 4, 0, 7, 4, 9, 0, 8, 2, 4, 2, 0, 8, 9,\n",
       "       6, 2, 0, 8, 8, 2, 7, 5, 4, 9, 1, 1, 6, 0, 8, 8, 6, 6, 3, 8, 8, 1,\n",
       "       6, 5, 1, 1, 7, 0, 8, 6, 2, 9, 8, 4, 7, 1, 8, 0, 1, 0, 4, 4, 4, 7,\n",
       "       0, 1, 5, 4, 7, 4, 2, 4, 4, 0, 3, 0, 2, 3, 8, 1, 7, 5, 8, 5, 9, 1,\n",
       "       3, 5, 1, 9, 8, 9, 7, 0, 4, 2, 6, 3, 9, 2, 2, 6, 0, 9, 5, 6, 8, 2,\n",
       "       8, 3, 0, 2, 9, 6, 0, 3, 7, 2, 2, 6, 4, 1, 4, 8, 8, 7, 8, 8, 9, 3,\n",
       "       1, 0, 4, 1, 7, 5, 5, 1])"
      ]
     },
     "execution_count": 132,
     "metadata": {},
     "output_type": "execute_result"
    }
   ],
   "source": [
    "#Decision tree classification\n",
    "dt=DecisionTreeClassifier()\n",
    "dt1=dt.fit(pca_x_train,y_train)\n",
    "predicted=dt1.predict(pca_x_test)\n",
    "predicted"
   ]
  },
  {
   "cell_type": "code",
   "execution_count": 127,
   "id": "fb025a6a",
   "metadata": {},
   "outputs": [
    {
     "data": {
      "text/plain": [
       "(360,)"
      ]
     },
     "execution_count": 127,
     "metadata": {},
     "output_type": "execute_result"
    }
   ],
   "source": [
    "predicted"
   ]
  },
  {
   "cell_type": "code",
   "execution_count": 133,
   "id": "60acbbcb",
   "metadata": {},
   "outputs": [
    {
     "data": {
      "text/plain": [
       "0.8083333333333333"
      ]
     },
     "execution_count": 133,
     "metadata": {},
     "output_type": "execute_result"
    }
   ],
   "source": [
    "accuracy_score(predicted,y_test)"
   ]
  },
  {
   "cell_type": "code",
   "execution_count": 124,
   "id": "1c964750",
   "metadata": {},
   "outputs": [
    {
     "data": {
      "text/plain": [
       "array([[33,  0,  0,  0,  0,  0,  0,  0,  0,  0],\n",
       "       [ 0, 30,  2,  1,  0,  1,  0,  0,  3,  2],\n",
       "       [ 1,  1, 27,  2,  1,  1,  0,  0,  1,  0],\n",
       "       [ 0,  0,  1, 18,  0,  3,  0,  4,  4,  2],\n",
       "       [ 2,  0,  1,  0, 31,  0,  0,  0,  0,  2],\n",
       "       [ 0,  0,  0,  0,  0, 33,  0,  0,  1,  2],\n",
       "       [ 3,  2,  1,  0,  0,  1, 28,  0,  1,  0],\n",
       "       [ 0,  0,  0,  1,  2,  0,  0, 32,  0,  2],\n",
       "       [ 3,  2,  3,  1,  0,  0,  0,  0, 30,  4],\n",
       "       [ 3,  0,  0,  2,  0,  1,  0,  1,  1, 26]], dtype=int64)"
      ]
     },
     "execution_count": 124,
     "metadata": {},
     "output_type": "execute_result"
    }
   ],
   "source": [
    "confusion_matrix(predicted, y_test)"
   ]
  },
  {
   "cell_type": "code",
   "execution_count": null,
   "id": "8487ce96",
   "metadata": {},
   "outputs": [],
   "source": [
    "\n",
    "'''\n",
    "      Predictions\n",
    "       \n",
    "Actual   0    1   2   3   4   5   6   7   8   9     \n",
    "      0 [26,  0,  0,  0,  0,  1,  1,  0,  0,  1],\n",
    "      1 [ 1, 34,  0,  0,  0,  0,  0,  0,  3,  1],\n",
    "      2 [ 0,  0, 31,  0,  0,  1,  0,  1,  2,  1],\n",
    "      3 [ 0,  0,  0, 24,  0,  1,  0,  0,  4,  4],\n",
    "      4 [ 0,  0,  1,  0, 28,  0,  1,  0,  1,  1],\n",
    "      5 [ 1,  0,  0,  1,  1, 31,  0,  1,  2,  2],\n",
    "      6 [ 1,  0,  0,  0,  0,  0, 34,  1,  0,  0],\n",
    "      7 [ 0,  0,  1,  0,  2,  0,  0, 35,  0,  0],\n",
    "      8 [ 0,  0,  2,  1,  0,  2,  1,  0, 29,  3],\n",
    "      9 [ 1,  1,  1,  0,  1,  2,  0,  1,  2, 31]]\n",
    "'''"
   ]
  },
  {
   "cell_type": "code",
   "execution_count": 134,
   "id": "2c61ff50",
   "metadata": {},
   "outputs": [],
   "source": [
    "def get_misclassified_index(y_pred,y_test):\n",
    "    misclassification=[]#help us out to get the misclassified index value\n",
    "    for index,(predicted,actual) in enumerate(zip(y_pred,y_test)):\n",
    "        if predicted!=actual:\n",
    "            misclassification.append(index)\n",
    "            \n",
    "    return misclassification"
   ]
  },
  {
   "cell_type": "code",
   "execution_count": 135,
   "id": "764168fc",
   "metadata": {},
   "outputs": [],
   "source": [
    "misclassification=get_misclassified_index(predicted,y_test)\n"
   ]
  },
  {
   "cell_type": "code",
   "execution_count": 136,
   "id": "2adab18b",
   "metadata": {},
   "outputs": [
    {
     "data": {
      "text/plain": [
       "69"
      ]
     },
     "execution_count": 136,
     "metadata": {},
     "output_type": "execute_result"
    }
   ],
   "source": [
    "len(misclassification) # misclassification contains all the Index values whose values are wrongly classified"
   ]
  },
  {
   "cell_type": "code",
   "execution_count": 137,
   "id": "77e25215",
   "metadata": {},
   "outputs": [
    {
     "data": {
      "text/plain": [
       "[8, 11, 17, 18, 19]"
      ]
     },
     "execution_count": 137,
     "metadata": {},
     "output_type": "execute_result"
    }
   ],
   "source": [
    "misclassification[:5]"
   ]
  },
  {
   "cell_type": "code",
   "execution_count": 138,
   "id": "a3c8aec0",
   "metadata": {},
   "outputs": [],
   "source": [
    "def plot_misclassifications(misclassifications):\n",
    "    plt.figure(figsize=(20,4))\n",
    "    for index,wrong in enumerate(misclassification[0:5]):\n",
    "        plt.subplot(1,5,index+1)\n",
    "        plt.imshow(np.reshape(pca_x_test[wrong],(5,4)),cmap=plt.cm.gray)\n",
    "        plt.title(\"Predicted:{} Actual:{}\".format(predicted[wrong],y_test[wrong]))"
   ]
  },
  {
   "cell_type": "code",
   "execution_count": 139,
   "id": "7299b780",
   "metadata": {},
   "outputs": [
    {
     "data": {
      "image/png": "[encoded data removed]",
      "text/plain": [
       "<Figure size 1440x288 with 5 Axes>"
      ]
     },
     "metadata": {
      "needs_background": "light"
     },
     "output_type": "display_data"
    }
   ],
   "source": [
    "plot_misclassifications(misclassification)"
   ]
  },
  {
   "cell_type": "code",
   "execution_count": null,
   "id": "98da6aaf",
   "metadata": {},
   "outputs": [],
   "source": []
  },
  {
   "cell_type": "code",
   "execution_count": null,
   "id": "37a35812",
   "metadata": {},
   "outputs": [],
   "source": []
  },
  {
   "cell_type": "code",
   "execution_count": null,
   "id": "d5097b1d",
   "metadata": {},
   "outputs": [],
   "source": []
  },
  {
   "cell_type": "code",
   "execution_count": null,
   "id": "9519781b",
   "metadata": {},
   "outputs": [],
   "source": []
  },
  {
   "cell_type": "code",
   "execution_count": null,
   "id": "c5c33436",
   "metadata": {},
   "outputs": [],
   "source": []
  },
  {
   "cell_type": "code",
   "execution_count": null,
   "id": "3aabf8d3",
   "metadata": {},
   "outputs": [],
   "source": [
    "# Enumerate - this function accepts 2 arguments  returns index and value for that index\n",
    "eg=[1,3,4,2,5,0,9,6,8]\n",
    "for i,j in enumerate (eg):\n",
    "    print(i,j)"
   ]
  },
  {
   "cell_type": "code",
   "execution_count": null,
   "id": "6397b6f1",
   "metadata": {},
   "outputs": [],
   "source": [
    "#zip - this function helps us to extract values from diffrent datasets and appends to tuple  or list format\n",
    "# however the appdend values will be in tuple format.\n",
    "a=[1,2,3,4,5,6,7,8]\n",
    "b=['A','B','C','D','E','F','G','H']\n",
    "k=zip(a,b)"
   ]
  },
  {
   "cell_type": "code",
   "execution_count": null,
   "id": "71fe0caf",
   "metadata": {},
   "outputs": [],
   "source": [
    "list(k) # We can change the output of Zip like how we want tuple(k) gives tuple ,list(k) give list output"
   ]
  },
  {
   "cell_type": "code",
   "execution_count": null,
   "id": "aedac619",
   "metadata": {},
   "outputs": [],
   "source": [
    "#Enumerate & ZIP\n",
    "\n",
    "eg1=[1,3,4,2,5,0,9,6,8]\n",
    "eg2=['A','B','C','D','E','F','G','H']\n",
    "for index,(i1,i2) in enumerate (zip(eg1,eg2)):\n",
    "    print (index,i1,i2)"
   ]
  },
  {
   "cell_type": "code",
   "execution_count": 102,
   "id": "9d0aa9e3",
   "metadata": {},
   "outputs": [
    {
     "data": {
      "text/plain": [
       "array([ 1,  3,  6, 10, 15, 21, 28, 36, 45], dtype=int32)"
      ]
     },
     "execution_count": 102,
     "metadata": {},
     "output_type": "execute_result"
    }
   ],
   "source": [
    "# cumulative explaied variance\n",
    "i=[1,2,3,4,5,6,7,8,9]\n",
    "j=np.cumsum(i)\n",
    "j"
   ]
  },
  {
   "cell_type": "code",
   "execution_count": null,
   "id": "d4d737ff",
   "metadata": {},
   "outputs": [],
   "source": []
  }
 ],
 "metadata": {
  "kernelspec": {
   "display_name": "Python 3 (ipykernel)",
   "language": "python",
   "name": "python3"
  },
  "language_info": {
   "codemirror_mode": {
    "name": "ipython",
    "version": 3
   },
   "file_extension": ".py",
   "mimetype": "text/x-python",
   "name": "python",
   "nbconvert_exporter": "python",
   "pygments_lexer": "ipython3",
   "version": "3.9.12"
  }
 },
 "nbformat": 4,
 "nbformat_minor": 5
}
