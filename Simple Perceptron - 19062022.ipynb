{
 "cells": [
  {
   "cell_type": "code",
   "execution_count": 1,
   "id": "4ea74f89",
   "metadata": {},
   "outputs": [],
   "source": [
    "import numpy as np\n",
    "\n",
    "x1 = [10, 8, 15]# Ads\n",
    "x2 = [8, 20, 25]# Stores\n",
    "y = [30, 15, 20]# Sales\n",
    "\n",
    "n = len(y)"
   ]
  },
  {
   "cell_type": "code",
   "execution_count": 2,
   "id": "14749c97",
   "metadata": {},
   "outputs": [],
   "source": [
    "def forward_pass(w1, w2, b):\n",
    "    y_pred = list()\n",
    "    total_error = 0\n",
    "    for i in range(n):\n",
    "        y_hat = w1* x1[i] + w2* x2[i] + b\n",
    "        y_pred.append(y_hat)\n",
    "\n",
    "        E = (y[i] - y_hat)**2\n",
    "        total_error+=E\n",
    "    return y_pred, total_error"
   ]
  },
  {
   "cell_type": "code",
   "execution_count": 3,
   "id": "3f6cad00",
   "metadata": {},
   "outputs": [],
   "source": [
    "def weight_update(w1, w2, b, y_pred):\n",
    "    for i in range(n):\n",
    "        de_dw1 = -2 * x1[i] * (y[i]-y_pred[i])\n",
    "        de_dw2 = -2 * x2[i] * (y[i]-y_pred[i])\n",
    "        de_db = -2 * (y[i]-y_pred[i])\n",
    "\n",
    "        w1 -= alpha * de_dw1\n",
    "        w2 -= alpha * de_dw2\n",
    "        b -= alpha * de_db\n",
    "    return w1, w2, b"
   ]
  },
  {
   "cell_type": "code",
   "execution_count": 4,
   "id": "76ebdca6",
   "metadata": {},
   "outputs": [
    {
     "data": {
      "text/plain": [
       "(0.8653772386889348, -1.00127752343103, -0.824853845352802, 0.0005)"
      ]
     },
     "execution_count": 4,
     "metadata": {},
     "output_type": "execute_result"
    }
   ],
   "source": [
    "random_init = np.random.randn(3)\n",
    "w1 = random_init[0]\n",
    "w2 = random_init[1]\n",
    "b = random_init[2]\n",
    "\n",
    "alpha = 0.0005\n",
    "epochs = 100\n",
    "\n",
    "w1, w2, b, alpha\n"
   ]
  },
  {
   "cell_type": "code",
   "execution_count": 5,
   "id": "7bfc25ba",
   "metadata": {
    "scrolled": true
   },
   "outputs": [
    {
     "name": "stdout",
     "output_type": "stream",
     "text": [
      "Epoch#:0 | Error = 2828.54\n",
      "Epoch#:1 | Error = 753.68\n",
      "Epoch#:2 | Error = 329.16\n",
      "Epoch#:3 | Error = 238.17\n",
      "Epoch#:4 | Error = 214.83\n",
      "Epoch#:5 | Error = 205.46\n",
      "Epoch#:6 | Error = 199.19\n",
      "Epoch#:7 | Error = 193.82\n",
      "Epoch#:8 | Error = 188.88\n",
      "Epoch#:9 | Error = 184.26\n",
      "Epoch#:10 | Error = 179.94\n",
      "Epoch#:11 | Error = 175.88\n",
      "Epoch#:12 | Error = 172.07\n",
      "Epoch#:13 | Error = 168.49\n",
      "Epoch#:14 | Error = 165.13\n",
      "Epoch#:15 | Error = 161.98\n",
      "Epoch#:16 | Error = 159.02\n",
      "Epoch#:17 | Error = 156.24\n",
      "Epoch#:18 | Error = 153.63\n",
      "Epoch#:19 | Error = 151.18\n",
      "Epoch#:20 | Error = 148.88\n",
      "Epoch#:21 | Error = 146.71\n",
      "Epoch#:22 | Error = 144.68\n",
      "Epoch#:23 | Error = 142.78\n",
      "Epoch#:24 | Error = 140.98\n",
      "Epoch#:25 | Error = 139.3\n",
      "Epoch#:26 | Error = 137.72\n",
      "Epoch#:27 | Error = 136.23\n",
      "Epoch#:28 | Error = 134.84\n",
      "Epoch#:29 | Error = 133.52\n",
      "Epoch#:30 | Error = 132.29\n",
      "Epoch#:31 | Error = 131.13\n",
      "Epoch#:32 | Error = 130.04\n",
      "Epoch#:33 | Error = 129.01\n",
      "Epoch#:34 | Error = 128.04\n",
      "Epoch#:35 | Error = 127.14\n",
      "Epoch#:36 | Error = 126.28\n",
      "Epoch#:37 | Error = 125.48\n",
      "Epoch#:38 | Error = 124.72\n",
      "Epoch#:39 | Error = 124.01\n",
      "Epoch#:40 | Error = 123.33\n",
      "Epoch#:41 | Error = 122.7\n",
      "Epoch#:42 | Error = 122.11\n",
      "Epoch#:43 | Error = 121.54\n",
      "Epoch#:44 | Error = 121.01\n",
      "Epoch#:45 | Error = 120.51\n",
      "Epoch#:46 | Error = 120.04\n",
      "Epoch#:47 | Error = 119.6\n",
      "Epoch#:48 | Error = 119.18\n",
      "Epoch#:49 | Error = 118.78\n",
      "Epoch#:50 | Error = 118.41\n",
      "Epoch#:51 | Error = 118.05\n",
      "Epoch#:52 | Error = 117.72\n",
      "Epoch#:53 | Error = 117.4\n",
      "Epoch#:54 | Error = 117.1\n",
      "Epoch#:55 | Error = 116.82\n",
      "Epoch#:56 | Error = 116.55\n",
      "Epoch#:57 | Error = 116.29\n",
      "Epoch#:58 | Error = 116.05\n",
      "Epoch#:59 | Error = 115.82\n",
      "Epoch#:60 | Error = 115.6\n",
      "Epoch#:61 | Error = 115.39\n",
      "Epoch#:62 | Error = 115.2\n",
      "Epoch#:63 | Error = 115.01\n",
      "Epoch#:64 | Error = 114.83\n",
      "Epoch#:65 | Error = 114.66\n",
      "Epoch#:66 | Error = 114.5\n",
      "Epoch#:67 | Error = 114.34\n",
      "Epoch#:68 | Error = 114.19\n",
      "Epoch#:69 | Error = 114.05\n",
      "Epoch#:70 | Error = 113.92\n",
      "Epoch#:71 | Error = 113.79\n",
      "Epoch#:72 | Error = 113.66\n",
      "Epoch#:73 | Error = 113.54\n",
      "Epoch#:74 | Error = 113.43\n",
      "Epoch#:75 | Error = 113.32\n",
      "Epoch#:76 | Error = 113.21\n",
      "Epoch#:77 | Error = 113.11\n",
      "Epoch#:78 | Error = 113.01\n",
      "Epoch#:79 | Error = 112.92\n",
      "Epoch#:80 | Error = 112.82\n",
      "Epoch#:81 | Error = 112.74\n",
      "Epoch#:82 | Error = 112.65\n",
      "Epoch#:83 | Error = 112.57\n",
      "Epoch#:84 | Error = 112.48\n",
      "Epoch#:85 | Error = 112.41\n",
      "Epoch#:86 | Error = 112.33\n",
      "Epoch#:87 | Error = 112.26\n",
      "Epoch#:88 | Error = 112.18\n",
      "Epoch#:89 | Error = 112.11\n",
      "Epoch#:90 | Error = 112.04\n",
      "Epoch#:91 | Error = 111.98\n",
      "Epoch#:92 | Error = 111.91\n",
      "Epoch#:93 | Error = 111.85\n",
      "Epoch#:94 | Error = 111.78\n",
      "Epoch#:95 | Error = 111.72\n",
      "Epoch#:96 | Error = 111.66\n",
      "Epoch#:97 | Error = 111.6\n",
      "Epoch#:98 | Error = 111.54\n",
      "Epoch#:99 | Error = 111.49\n"
     ]
    }
   ],
   "source": [
    "error = list()\n",
    "for epoch in range(epochs):\n",
    "    y_pred, total_error = forward_pass(w1, w2, b)\n",
    "    print(f\"Epoch#:{epoch} | Error = {round(total_error, 2)}\")\n",
    "    error.append(total_error)\n",
    "    w1, w2, b = weight_update(w1, w2, b, y_pred)"
   ]
  },
  {
   "cell_type": "code",
   "execution_count": 6,
   "id": "1569e35d",
   "metadata": {},
   "outputs": [],
   "source": [
    "import matplotlib.pyplot as plt"
   ]
  },
  {
   "cell_type": "code",
   "execution_count": 7,
   "id": "5cea1446",
   "metadata": {},
   "outputs": [
    {
     "data": {
      "image/png": "[encoded data removed]",
      "text/plain": [
       "<Figure size 432x288 with 1 Axes>"
      ]
     },
     "metadata": {
      "needs_background": "light"
     },
     "output_type": "display_data"
    }
   ],
   "source": [
    "plt.plot(error)\n",
    "plt.grid()\n",
    "plt.xlabel(\"Epoch\")\n",
    "plt.ylabel(\"Error\")\n",
    "plt.show()"
   ]
  },
  {
   "cell_type": "code",
   "execution_count": 8,
   "id": "ca351202",
   "metadata": {},
   "outputs": [
    {
     "data": {
      "text/plain": [
       "(3.13441031241865, -0.8048694182834215, -0.18584404840642738)"
      ]
     },
     "execution_count": 8,
     "metadata": {},
     "output_type": "execute_result"
    }
   ],
   "source": [
    "w1, w2, b"
   ]
  },
  {
   "cell_type": "markdown",
   "id": "02a8eaac",
   "metadata": {},
   "source": [
    "### Implementing using Numpy"
   ]
  },
  {
   "cell_type": "code",
   "execution_count": 9,
   "id": "097e8067",
   "metadata": {},
   "outputs": [],
   "source": [
    "import numpy as np"
   ]
  },
  {
   "cell_type": "code",
   "execution_count": 10,
   "id": "2dfbc2ec",
   "metadata": {},
   "outputs": [],
   "source": [
    "x1 = [10, 8, 15]# Ads\n",
    "x2 = [8, 20, 25]# Stores\n",
    "x  = np.array([x1, x2])\n",
    "x = x.T\n",
    "y = np.array([30, 15, 20])# Sales"
   ]
  },
  {
   "cell_type": "code",
   "execution_count": 11,
   "id": "759ad9a7",
   "metadata": {},
   "outputs": [
    {
     "data": {
      "text/plain": [
       "array([[10,  8],\n",
       "       [ 8, 20],\n",
       "       [15, 25]])"
      ]
     },
     "execution_count": 11,
     "metadata": {},
     "output_type": "execute_result"
    }
   ],
   "source": [
    "x"
   ]
  },
  {
   "cell_type": "code",
   "execution_count": 12,
   "id": "d2e47fa1",
   "metadata": {},
   "outputs": [
    {
     "data": {
      "text/plain": [
       "array([30, 15, 20])"
      ]
     },
     "execution_count": 12,
     "metadata": {},
     "output_type": "execute_result"
    }
   ],
   "source": [
    "y"
   ]
  },
  {
   "cell_type": "code",
   "execution_count": 13,
   "id": "ec1acf25",
   "metadata": {},
   "outputs": [],
   "source": [
    "random_init = np.random.randn(3)\n",
    "weights = random_init[:2].reshape(-1,1)\n",
    "bias = random_init[2]"
   ]
  },
  {
   "cell_type": "code",
   "execution_count": 14,
   "id": "a69b3b31",
   "metadata": {},
   "outputs": [
    {
     "data": {
      "text/plain": [
       "array([[-1.38154787],\n",
       "       [ 1.80759355]])"
      ]
     },
     "execution_count": 14,
     "metadata": {},
     "output_type": "execute_result"
    }
   ],
   "source": [
    "weights"
   ]
  },
  {
   "cell_type": "code",
   "execution_count": 15,
   "id": "fb9e5769",
   "metadata": {},
   "outputs": [
    {
     "data": {
      "text/plain": [
       "-0.43917506052251987"
      ]
     },
     "execution_count": 15,
     "metadata": {},
     "output_type": "execute_result"
    }
   ],
   "source": [
    "bias"
   ]
  },
  {
   "cell_type": "markdown",
   "id": "3230d30e",
   "metadata": {},
   "source": [
    "### Forward Pass"
   ]
  },
  {
   "cell_type": "code",
   "execution_count": 16,
   "id": "1134fce1",
   "metadata": {},
   "outputs": [],
   "source": [
    "y_pred = np.matmul(x, weights) + bias"
   ]
  },
  {
   "cell_type": "code",
   "execution_count": 17,
   "id": "d163362e",
   "metadata": {},
   "outputs": [
    {
     "data": {
      "text/plain": [
       "1775.2740450371614"
      ]
     },
     "execution_count": 17,
     "metadata": {},
     "output_type": "execute_result"
    }
   ],
   "source": [
    "((y_pred - y)**2).sum()"
   ]
  }
 ],
 "metadata": {
  "kernelspec": {
   "display_name": "Python 3 (ipykernel)",
   "language": "python",
   "name": "python3"
  },
  "language_info": {
   "codemirror_mode": {
    "name": "ipython",
    "version": 3
   },
   "file_extension": ".py",
   "mimetype": "text/x-python",
   "name": "python",
   "nbconvert_exporter": "python",
   "pygments_lexer": "ipython3",
   "version": "3.9.7"
  }
 },
 "nbformat": 4,
 "nbformat_minor": 5
}
