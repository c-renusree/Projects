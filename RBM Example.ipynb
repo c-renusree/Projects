{
 "cells": [
  {
   "cell_type": "code",
   "execution_count": 1,
   "id": "7d169034",
   "metadata": {},
   "outputs": [],
   "source": [
    "import pandas as pd\n",
    "import numpy as np\n",
    "from keras.datasets import mnist\n",
    "(X_train, _), (X_test, _) = mnist.load_data()\n",
    "\n",
    "X_train = X_train.reshape(-1,784)\n",
    "X_train = X_train/255"
   ]
  },
  {
   "cell_type": "code",
   "execution_count": 4,
   "id": "960d0101",
   "metadata": {
    "scrolled": true
   },
   "outputs": [
    {
     "name": "stdout",
     "output_type": "stream",
     "text": [
      "[BernoulliRBM] Iteration 1, pseudo-likelihood = -118.09, time = 6.24s\n",
      "[BernoulliRBM] Iteration 2, pseudo-likelihood = -103.09, time = 8.97s\n",
      "[BernoulliRBM] Iteration 3, pseudo-likelihood = -96.74, time = 7.72s\n",
      "[BernoulliRBM] Iteration 4, pseudo-likelihood = -92.57, time = 8.51s\n",
      "[BernoulliRBM] Iteration 5, pseudo-likelihood = -89.23, time = 7.69s\n",
      "[BernoulliRBM] Iteration 6, pseudo-likelihood = -87.31, time = 7.79s\n",
      "[BernoulliRBM] Iteration 7, pseudo-likelihood = -85.19, time = 9.21s\n",
      "[BernoulliRBM] Iteration 8, pseudo-likelihood = -85.01, time = 8.19s\n",
      "[BernoulliRBM] Iteration 9, pseudo-likelihood = -83.85, time = 7.76s\n",
      "[BernoulliRBM] Iteration 10, pseudo-likelihood = -83.30, time = 8.90s\n"
     ]
    },
    {
     "data": {
      "text/plain": [
       "BernoulliRBM(learning_rate=0.01, n_components=100, random_state=42,\n",
       "             verbose=True)"
      ]
     },
     "execution_count": 4,
     "metadata": {},
     "output_type": "execute_result"
    }
   ],
   "source": [
    "from sklearn.neural_network import BernoulliRBM\n",
    "rbm = BernoulliRBM(n_components=100, learning_rate=0.01, random_state=42, verbose=True)\n",
    "rbm.fit(X_train)"
   ]
  },
  {
   "cell_type": "code",
   "execution_count": 5,
   "id": "bc7d7842",
   "metadata": {},
   "outputs": [
    {
     "data": {
      "text/plain": [
       "100"
      ]
     },
     "execution_count": 5,
     "metadata": {},
     "output_type": "execute_result"
    }
   ],
   "source": [
    "rbm.n_components"
   ]
  },
  {
   "cell_type": "code",
   "execution_count": 8,
   "id": "37658f7c",
   "metadata": {},
   "outputs": [
    {
     "data": {
      "text/plain": [
       "(100, 784)"
      ]
     },
     "execution_count": 8,
     "metadata": {},
     "output_type": "execute_result"
    }
   ],
   "source": [
    "rbm.components_.shape"
   ]
  },
  {
   "cell_type": "code",
   "execution_count": 10,
   "id": "d93c6124",
   "metadata": {},
   "outputs": [
    {
     "data": {
      "text/plain": [
       "(100,)"
      ]
     },
     "execution_count": 10,
     "metadata": {},
     "output_type": "execute_result"
    }
   ],
   "source": [
    "rbm.intercept_hidden_.shape"
   ]
  },
  {
   "cell_type": "code",
   "execution_count": 11,
   "id": "a3295a70",
   "metadata": {},
   "outputs": [
    {
     "data": {
      "text/plain": [
       "(784,)"
      ]
     },
     "execution_count": 11,
     "metadata": {},
     "output_type": "execute_result"
    }
   ],
   "source": [
    "rbm.intercept_visible_.shape"
   ]
  },
  {
   "cell_type": "code",
   "execution_count": 13,
   "id": "f2eff246",
   "metadata": {},
   "outputs": [
    {
     "data": {
      "text/plain": [
       "(1, 784)"
      ]
     },
     "execution_count": 13,
     "metadata": {},
     "output_type": "execute_result"
    }
   ],
   "source": [
    "X_train[:1].shape"
   ]
  },
  {
   "cell_type": "code",
   "execution_count": 16,
   "id": "c4ebe3bd",
   "metadata": {
    "scrolled": true
   },
   "outputs": [
    {
     "data": {
      "text/plain": [
       "array([[9.99928035e-01, 4.38999239e-01, 2.53598796e-01, 3.30645687e-01,\n",
       "        3.10505973e-02, 9.99950296e-01, 2.09133598e-05, 1.13050167e-04,\n",
       "        1.35183253e-08, 5.90201556e-03, 6.69760915e-09, 1.00000000e+00,\n",
       "        1.46721226e-04, 1.00474528e-02, 8.20421438e-03, 1.17037320e-03,\n",
       "        5.12745054e-10, 9.99364934e-01, 8.21088093e-01, 5.92871270e-03,\n",
       "        1.17535841e-01, 3.22343381e-12, 3.34496395e-08, 3.70125048e-14,\n",
       "        4.60457174e-04, 2.04312036e-04, 6.55860585e-01, 9.98705059e-01,\n",
       "        9.99160106e-01, 1.79790484e-08, 8.87357169e-11, 8.74097529e-01,\n",
       "        8.80338762e-01, 7.06665152e-01, 8.24910022e-04, 8.80813775e-10,\n",
       "        9.99979686e-01, 9.99407215e-01, 9.99963330e-01, 3.54562651e-01,\n",
       "        2.13626459e-05, 9.96299539e-01, 9.87792248e-01, 1.06579885e-01,\n",
       "        9.99931803e-01, 9.99295212e-01, 9.15587826e-01, 9.99999977e-01,\n",
       "        9.99999997e-01, 9.96716610e-01, 9.49610423e-01, 9.99999976e-01,\n",
       "        1.00000000e+00, 9.93410625e-01, 9.94960740e-01, 1.21515268e-01,\n",
       "        4.60861876e-07, 1.39553183e-10, 9.99999982e-01, 9.99859038e-01,\n",
       "        9.99999853e-01, 6.77303574e-08, 2.88682559e-05, 2.53719927e-07,\n",
       "        8.94726719e-01, 1.25751368e-02, 9.79963957e-01, 9.53926285e-01,\n",
       "        2.89822644e-04, 9.98676183e-01, 1.04890485e-08, 7.85382841e-02,\n",
       "        9.99895173e-01, 9.23620629e-01, 3.19647380e-04, 8.07129089e-04,\n",
       "        3.00385805e-04, 9.99999677e-01, 9.75875109e-01, 5.51423048e-03,\n",
       "        1.78777915e-04, 4.91011757e-05, 9.99013401e-01, 3.75645954e-02,\n",
       "        7.51910847e-04, 9.99858516e-01, 9.99999811e-01, 8.39328842e-05,\n",
       "        9.99972316e-01, 2.27092023e-03, 9.99891156e-01, 9.99981724e-01,\n",
       "        9.99999946e-01, 1.09293179e-06, 3.19751176e-08, 2.80622468e-02,\n",
       "        9.99999697e-01, 3.52258752e-05, 9.99997679e-01, 8.03007547e-05]])"
      ]
     },
     "execution_count": 16,
     "metadata": {},
     "output_type": "execute_result"
    }
   ],
   "source": [
    "rbm.transform(X_train[:1])"
   ]
  }
 ],
 "metadata": {
  "kernelspec": {
   "display_name": "tf",
   "language": "python",
   "name": "tf"
  },
  "language_info": {
   "codemirror_mode": {
    "name": "ipython",
    "version": 3
   },
   "file_extension": ".py",
   "mimetype": "text/x-python",
   "name": "python",
   "nbconvert_exporter": "python",
   "pygments_lexer": "ipython3",
   "version": "3.8.8"
  }
 },
 "nbformat": 4,
 "nbformat_minor": 5
}
